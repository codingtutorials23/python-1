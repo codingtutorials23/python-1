{
  "nbformat": 4,
  "nbformat_minor": 0,
  "metadata": {
    "colab": {
      "name": "2.Python [Sterowanie programem IF & Pętle].ipynb",
      "provenance": [],
      "authorship_tag": "ABX9TyOXS+fLWVlAz6W4jIurZfoD"
    },
    "kernelspec": {
      "name": "python3",
      "display_name": "Python 3"
    },
    "language_info": {
      "name": "python"
    }
  },
  "cells": [
    {
      "cell_type": "markdown",
      "metadata": {
        "id": "jGUAurcK0Qkq"
      },
      "source": [
        "Pętla If & else:"
      ]
    },
    {
      "cell_type": "code",
      "metadata": {
        "colab": {
          "base_uri": "https://localhost:8080/"
        },
        "id": "aeoY2AidxB79",
        "outputId": "81d4117c-46d8-4d2b-e0fb-4c89605440d2"
      },
      "source": [
        "age = 23\n",
        "isDrunk = True\n",
        "\n",
        "if age >= 18 and not isDrunk:\n",
        "  print('tak')\n",
        "else:\n",
        "  print('nie')"
      ],
      "execution_count": null,
      "outputs": [
        {
          "output_type": "stream",
          "text": [
            "nie\n"
          ],
          "name": "stdout"
        }
      ]
    },
    {
      "cell_type": "code",
      "metadata": {
        "id": "QUg2zzKyx2T2"
      },
      "source": [
        "MIN_LIKES = 500\n",
        "MIN_SHARES = 100\n",
        "num_likes = 1300\n",
        "num_shares= 55"
      ],
      "execution_count": null,
      "outputs": []
    },
    {
      "cell_type": "code",
      "metadata": {
        "colab": {
          "base_uri": "https://localhost:8080/"
        },
        "id": "JRfUbum00Jhb",
        "outputId": "d6da3032-94a6-4863-fdc0-61e6f9cf4a1f"
      },
      "source": [
        "MIN_LIKES"
      ],
      "execution_count": null,
      "outputs": [
        {
          "output_type": "execute_result",
          "data": {
            "text/plain": [
              "500"
            ]
          },
          "metadata": {},
          "execution_count": 9
        }
      ]
    },
    {
      "cell_type": "code",
      "metadata": {
        "colab": {
          "base_uri": "https://localhost:8080/"
        },
        "id": "O7uTdvgh0LcO",
        "outputId": "897d0de4-d0b8-4584-cab9-ea079e47b492"
      },
      "source": [
        "num_likes "
      ],
      "execution_count": null,
      "outputs": [
        {
          "output_type": "execute_result",
          "data": {
            "text/plain": [
              "1300"
            ]
          },
          "metadata": {},
          "execution_count": 10
        }
      ]
    },
    {
      "cell_type": "code",
      "metadata": {
        "colab": {
          "base_uri": "https://localhost:8080/"
        },
        "id": "PWJ4lgkW0NNf",
        "outputId": "3eea7080-a019-4580-d9ab-02c1134d37ad"
      },
      "source": [
        "if num_likes >= MIN_LIKES and num_shares >= MIN_SHARES:\n",
        "    print('GREAT! Today our prizes drop 10% !!!')\n",
        "else:\n",
        "    print('We still need more likes and shares to start the promotion')"
      ],
      "execution_count": null,
      "outputs": [
        {
          "output_type": "stream",
          "text": [
            "We still need more likes and shares to start the promotion\n"
          ],
          "name": "stdout"
        }
      ]
    },
    {
      "cell_type": "code",
      "metadata": {
        "id": "d6r555-G14N6"
      },
      "source": [
        "isPizzaOrdered = True\n",
        "isWeekend = True\n",
        "isBigDrinkOrdered = True"
      ],
      "execution_count": null,
      "outputs": []
    },
    {
      "cell_type": "code",
      "metadata": {
        "colab": {
          "base_uri": "https://localhost:8080/"
        },
        "id": "SJ7rC5-F1-3O",
        "outputId": "9a47cdcf-dc0b-4ef7-a2bd-c98fd3aec347"
      },
      "source": [
        "if (isPizzaOrdered or isBigDrinkOrdered) and not isWeekend:\n",
        "    print('Burger for FREE!!!')\n",
        "else:\n",
        "    print('Come to us on week day and consider buying Pizza or BigDrink to have Burger for free')"
      ],
      "execution_count": null,
      "outputs": [
        {
          "output_type": "stream",
          "text": [
            "Come to us on week day and consider buying Pizza or BigDrink to have Burger for free\n"
          ],
          "name": "stdout"
        }
      ]
    },
    {
      "cell_type": "code",
      "metadata": {
        "id": "gAaSLuMW2Bk6"
      },
      "source": [
        "diskSize = 140\n",
        "diskSizeUsed = 133\n",
        "fileSize = 10"
      ],
      "execution_count": null,
      "outputs": []
    },
    {
      "cell_type": "code",
      "metadata": {
        "colab": {
          "base_uri": "https://localhost:8080/"
        },
        "id": "IubFFJvX2-4r",
        "outputId": "f2ff41bc-820a-4add-85ab-9b32b553b676"
      },
      "source": [
        "if diskSize - diskSizeUsed >= fileSize :\n",
        "    print('The file can be downloaded')\n",
        "else:\n",
        "    print('There isn\\'t enough free disk space to download the file. Sorry :(')"
      ],
      "execution_count": null,
      "outputs": [
        {
          "output_type": "stream",
          "text": [
            "There isn't enough free disk space to download the file. Sorry :(\n"
          ],
          "name": "stdout"
        }
      ]
    },
    {
      "cell_type": "markdown",
      "metadata": {
        "id": "_swosje_3gPU"
      },
      "source": [
        "Pętla if & elif"
      ]
    },
    {
      "cell_type": "code",
      "metadata": {
        "id": "yPTmBdEM3CfX"
      },
      "source": [
        "MIN_LIKES = 500\n",
        "MIN_SHARES = 100\n",
        "\n",
        "num_likes = 300\n",
        "num_shares= 550"
      ],
      "execution_count": null,
      "outputs": []
    },
    {
      "cell_type": "code",
      "metadata": {
        "colab": {
          "base_uri": "https://localhost:8080/"
        },
        "id": "Lix8aVHIJl3z",
        "outputId": "8d0176dc-7efb-43d4-e47e-520faf0e06c0"
      },
      "source": [
        "if num_likes >= MIN_LIKES and num_shares >= MIN_SHARES:\n",
        "    print('GREAT! Today our prizes drop 10% !!!')\n",
        "elif num_likes <MIN_LIKES:\n",
        "     print('We still need more likes to start the promotion')\n",
        "else:\n",
        "     print('We still need more shares to start the promotion')"
      ],
      "execution_count": null,
      "outputs": [
        {
          "output_type": "stream",
          "text": [
            "We still need more likes to start the promotion\n"
          ],
          "name": "stdout"
        }
      ]
    },
    {
      "cell_type": "code",
      "metadata": {
        "id": "f5DHhmp6KsR1"
      },
      "source": [
        "isPizzaOrdered = True\n",
        "isWeekend = True\n",
        "isBigDrinkOrdered = True"
      ],
      "execution_count": null,
      "outputs": []
    },
    {
      "cell_type": "code",
      "metadata": {
        "colab": {
          "base_uri": "https://localhost:8080/"
        },
        "id": "KYjXdRxwLCyN",
        "outputId": "84e29227-1432-45e8-d320-2f376b7cb6b6"
      },
      "source": [
        "if (isPizzaOrdered or isBigDrinkOrdered) and not isWeekend:\n",
        "    print('Burger for FREE!!!')\n",
        "elif isWeekend:\n",
        "    print('Come back on non-Weekend day')\n",
        "else:\n",
        "    print('You need to order Pizza or Big drink to have a Burger coupon')"
      ],
      "execution_count": null,
      "outputs": [
        {
          "output_type": "stream",
          "text": [
            "Come back on non-Weekend day\n"
          ],
          "name": "stdout"
        }
      ]
    },
    {
      "cell_type": "markdown",
      "metadata": {
        "id": "YgcETnnvN8Rv"
      },
      "source": [
        "Pętla while"
      ]
    },
    {
      "cell_type": "code",
      "metadata": {
        "colab": {
          "base_uri": "https://localhost:8080/"
        },
        "id": "5VsrwFeuLVYV",
        "outputId": "ea38c90d-ff8f-4cce-a77b-425c7e202a33"
      },
      "source": [
        "i=1\n",
        "imax=5\n",
        "\n",
        "while i <= imax :\n",
        "  print(i, 'I like Python')\n",
        "  i+=1"
      ],
      "execution_count": null,
      "outputs": [
        {
          "output_type": "stream",
          "text": [
            "1 I like Python\n",
            "2 I like Python\n",
            "3 I like Python\n",
            "4 I like Python\n",
            "5 I like Python\n"
          ],
          "name": "stdout"
        }
      ]
    },
    {
      "cell_type": "code",
      "metadata": {
        "colab": {
          "base_uri": "https://localhost:8080/"
        },
        "id": "alzBVWzIPH6b",
        "outputId": "ba07aa7f-fe54-4917-e1e4-ea4183843032"
      },
      "source": [
        "i=1\n",
        "imax=5\n",
        "\n",
        "while i <= imax :\n",
        "  print(i, 'I like Python')\n",
        "  i+=1\n",
        "else:\n",
        "  print('Now i =',i)"
      ],
      "execution_count": null,
      "outputs": [
        {
          "output_type": "stream",
          "text": [
            "1 I like Python\n",
            "2 I like Python\n",
            "3 I like Python\n",
            "4 I like Python\n",
            "5 I like Python\n",
            "Now i = 6\n"
          ],
          "name": "stdout"
        }
      ]
    },
    {
      "cell_type": "code",
      "metadata": {
        "colab": {
          "base_uri": "https://localhost:8080/"
        },
        "id": "ZI29cBQiQPRS",
        "outputId": "805f6344-6819-47d0-9115-3c5761a07ac2"
      },
      "source": [
        "i=1\n",
        "imax=5\n",
        "\n",
        "while i <= imax :\n",
        "  print(i, 'I like Python')\n",
        "  i+=2\n",
        "else:\n",
        "  print('Now i =',i)"
      ],
      "execution_count": null,
      "outputs": [
        {
          "output_type": "stream",
          "text": [
            "1 I like Python\n",
            "3 I like Python\n",
            "5 I like Python\n",
            "Now i = 7\n"
          ],
          "name": "stdout"
        }
      ]
    },
    {
      "cell_type": "code",
      "metadata": {
        "colab": {
          "base_uri": "https://localhost:8080/"
        },
        "id": "-YFlJpLvRzUl",
        "outputId": "5b212c0d-61ef-47de-8f56-05e64d5f600b"
      },
      "source": [
        "i=10\n",
        "imin=0\n",
        "\n",
        "while i >= imin :\n",
        "  print(i, 'I like Python')\n",
        "  i-=1\n",
        "else:\n",
        "  print('Now i =',i)"
      ],
      "execution_count": null,
      "outputs": [
        {
          "output_type": "stream",
          "text": [
            "10 I like Python\n",
            "9 I like Python\n",
            "8 I like Python\n",
            "7 I like Python\n",
            "6 I like Python\n",
            "5 I like Python\n",
            "4 I like Python\n",
            "3 I like Python\n",
            "2 I like Python\n",
            "1 I like Python\n",
            "0 I like Python\n",
            "Now i = -1\n"
          ],
          "name": "stdout"
        }
      ]
    },
    {
      "cell_type": "code",
      "metadata": {
        "colab": {
          "base_uri": "https://localhost:8080/"
        },
        "id": "-8Q-CtKnSiHV",
        "outputId": "891c199b-39a3-428a-cad9-7434d2787b63"
      },
      "source": [
        "firstRow = 1\n",
        "lastRow = 5\n",
        "currentRow = firstRow\n",
        "\n",
        "while currentRow <= lastRow:\n",
        "    print(\"Row number\",currentRow)\n",
        "    currentRow+=1"
      ],
      "execution_count": null,
      "outputs": [
        {
          "output_type": "stream",
          "text": [
            "Row number 1\n",
            "Row number 2\n",
            "Row number 3\n",
            "Row number 4\n",
            "Row number 5\n"
          ],
          "name": "stdout"
        }
      ]
    },
    {
      "cell_type": "code",
      "metadata": {
        "colab": {
          "base_uri": "https://localhost:8080/"
        },
        "id": "FRMfP6AfUxTs",
        "outputId": "ecca880c-95fb-42ce-dfd2-6acf2ed5db07"
      },
      "source": [
        "start = 1\n",
        "end = 5\n",
        "number = start\n",
        "\n",
        "while number<=end:\n",
        "    print(number, number*number, number*number*number)\n",
        "    number+=1"
      ],
      "execution_count": null,
      "outputs": [
        {
          "output_type": "stream",
          "text": [
            "1 1 1\n",
            "2 4 8\n",
            "3 9 27\n",
            "4 16 64\n",
            "5 25 125\n"
          ],
          "name": "stdout"
        }
      ]
    },
    {
      "cell_type": "code",
      "metadata": {
        "colab": {
          "base_uri": "https://localhost:8080/"
        },
        "id": "HLo0rpaSV0xd",
        "outputId": "00194836-6310-4e57-c391-a9b648585bd2"
      },
      "source": [
        "start = 0\n",
        "end = 5\n",
        "x = start\n",
        "\n",
        "while x<=end:\n",
        "    print(x, 2**x)\n",
        "    x+=1"
      ],
      "execution_count": null,
      "outputs": [
        {
          "output_type": "stream",
          "text": [
            "0 1\n",
            "1 2\n",
            "2 4\n",
            "3 8\n",
            "4 16\n",
            "5 32\n"
          ],
          "name": "stdout"
        }
      ]
    },
    {
      "cell_type": "code",
      "metadata": {
        "colab": {
          "base_uri": "https://localhost:8080/"
        },
        "id": "6vhZNGswWlT8",
        "outputId": "a1dc4901-3197-4910-d4c8-5120f4e286ce"
      },
      "source": [
        "start = 1\n",
        "end   = 10\n",
        "number = start\n",
        "\n",
        "while number<=end:\n",
        "    print(number*'x')\n",
        "    number+=1"
      ],
      "execution_count": null,
      "outputs": [
        {
          "output_type": "stream",
          "text": [
            "x\n",
            "xx\n",
            "xxx\n",
            "xxxx\n",
            "xxxxx\n",
            "xxxxxx\n",
            "xxxxxxx\n",
            "xxxxxxxx\n",
            "xxxxxxxxx\n",
            "xxxxxxxxxx\n"
          ],
          "name": "stdout"
        }
      ]
    },
    {
      "cell_type": "code",
      "metadata": {
        "colab": {
          "base_uri": "https://localhost:8080/"
        },
        "id": "t7i9tqPe3-DB",
        "outputId": "2d985122-90fe-4618-8363-8cea8fee568d"
      },
      "source": [
        "text = ''\n",
        "number = 10\n",
        "condition = True\n",
        " \n",
        "while condition:\n",
        " \n",
        "    text+='x'\n",
        "    print(text)\n",
        "    \n",
        "    if len(text)>=number:\n",
        "        condition=False"
      ],
      "execution_count": null,
      "outputs": [
        {
          "output_type": "stream",
          "text": [
            "x\n",
            "xx\n",
            "xxx\n",
            "xxxx\n",
            "xxxxx\n",
            "xxxxxx\n",
            "xxxxxxx\n",
            "xxxxxxxx\n",
            "xxxxxxxxx\n",
            "xxxxxxxxxx\n"
          ],
          "name": "stdout"
        }
      ]
    },
    {
      "cell_type": "markdown",
      "metadata": {
        "id": "1wv7FZPbiQRu"
      },
      "source": [
        "Pętla while (ładowanie paczek do kontenera)"
      ]
    },
    {
      "cell_type": "code",
      "metadata": {
        "colab": {
          "base_uri": "https://localhost:8080/"
        },
        "id": "dGFldDxbitVb",
        "outputId": "a1ceed28-e0c6-464f-cf7b-e772f5639509"
      },
      "source": [
        "cargo = [3,4,5,7,6,12,22,32,2,43,6,3,67,2,4,0,47]\n",
        "\n",
        "cargo.sort()\n",
        "cargo.reverse()\n",
        "\n",
        "print('Przed upakowaniem do skrzynki lista zawiera kolejno: ',cargo)\n",
        "\n",
        "boxCapacity = 90\n",
        "box = []\n",
        "i = 0\n",
        "\n",
        "while i<len(cargo) and (boxCapacity - sum(box)) >= min(cargo):\n",
        "  if (boxCapacity - sum(box)) >= cargo[i]:\n",
        "    box.append(cargo[i])\n",
        "  i+=1\n",
        "\n",
        "print('Skrzynka zawiera łącznie kg: ',sum(box))"
      ],
      "execution_count": null,
      "outputs": [
        {
          "output_type": "stream",
          "text": [
            "Przed upakowaniem do skrzynki lista zawiera kolejno:  [67, 47, 43, 32, 22, 12, 7, 6, 6, 5, 4, 4, 3, 3, 2, 2, 0]\n",
            "Skrzynka zawiera łącznie kg:  89\n"
          ],
          "name": "stdout"
        }
      ]
    },
    {
      "cell_type": "markdown",
      "metadata": {
        "id": "6kwWi3EiX-1S"
      },
      "source": [
        "if w while"
      ]
    },
    {
      "cell_type": "code",
      "metadata": {
        "colab": {
          "base_uri": "https://localhost:8080/"
        },
        "id": "S5A4Cx_jX315",
        "outputId": "e6215834-4637-487f-ddb3-90b05bf4a326"
      },
      "source": [
        "numbers = [8, 18, 2, 4, 16, 5, 25, 4, 22, 3, 3, 5, 3, 9, 81, 11]\n",
        "\n",
        "i = 0\n",
        "max = len(numbers)-1\n",
        "while i < max:\n",
        "    print(i, numbers[i],numbers[i+1])\n",
        "    if numbers[i]**2 == numbers[i+1]:\n",
        "        print(\"\\tFOUND!\")\n",
        "    i+=1"
      ],
      "execution_count": null,
      "outputs": [
        {
          "output_type": "stream",
          "text": [
            "0 8 18\n",
            "1 18 2\n",
            "2 2 4\n",
            "\tFOUND!\n",
            "3 4 16\n",
            "\tFOUND!\n",
            "4 16 5\n",
            "5 5 25\n",
            "\tFOUND!\n",
            "6 25 4\n",
            "7 4 22\n",
            "8 22 3\n",
            "9 3 3\n",
            "10 3 5\n",
            "11 5 3\n",
            "12 3 9\n",
            "\tFOUND!\n",
            "13 9 81\n",
            "\tFOUND!\n",
            "14 81 11\n"
          ],
          "name": "stdout"
        }
      ]
    },
    {
      "cell_type": "code",
      "metadata": {
        "colab": {
          "base_uri": "https://localhost:8080/"
        },
        "id": "Gd7kL-YPaeqZ",
        "outputId": "1ec2c7d8-c484-432d-cf4f-7cac3ede5879"
      },
      "source": [
        "numbers = [8, 18, 2, 4, 16, 5, 25, 4, 22, 3, 3, 5, 3, 9, 81, 11]\n",
        "i = 0\n",
        "max = len(numbers)-2\n",
        "while i< max:\n",
        "    print(i, numbers[i],numbers[i+1], numbers[i+2])\n",
        "    if numbers[i]**2 == numbers[i+1] and numbers[i+1]**2 == numbers[i+2]:\n",
        "        print(\"\\tFOUND!\")\n",
        "    i+=1"
      ],
      "execution_count": null,
      "outputs": [
        {
          "output_type": "stream",
          "text": [
            "0 8 18 2\n",
            "1 18 2 4\n",
            "2 2 4 16\n",
            "\tFOUND!\n",
            "3 4 16 5\n",
            "4 16 5 25\n",
            "5 5 25 4\n",
            "6 25 4 22\n",
            "7 4 22 3\n",
            "8 22 3 3\n",
            "9 3 3 5\n",
            "10 3 5 3\n",
            "11 5 3 9\n",
            "12 3 9 81\n",
            "\tFOUND!\n",
            "13 9 81 11\n"
          ],
          "name": "stdout"
        }
      ]
    },
    {
      "cell_type": "code",
      "metadata": {
        "colab": {
          "base_uri": "https://localhost:8080/"
        },
        "id": "jlwBM1xrcFWf",
        "outputId": "7773e163-1c0b-4bb1-ac6b-28b604d0c4da"
      },
      "source": [
        "texts = ['zero', 'one', 'two', 'three', 'four', 'five', 'six', 'seven', 'eight', 'nine']\n",
        "i = 0\n",
        "max = len(texts)-1\n",
        "while i< max:\n",
        "    print(i, texts[i],texts[i+1])\n",
        "    if len(texts[i]) == len(texts[i+1]):\n",
        "        print(\"\\tFOUND!\")\n",
        "    i+=1"
      ],
      "execution_count": null,
      "outputs": [
        {
          "output_type": "stream",
          "text": [
            "0 zero one\n",
            "1 one two\n",
            "\tFOUND!\n",
            "2 two three\n",
            "3 three four\n",
            "4 four five\n",
            "\tFOUND!\n",
            "5 five six\n",
            "6 six seven\n",
            "7 seven eight\n",
            "\tFOUND!\n",
            "8 eight nine\n"
          ],
          "name": "stdout"
        }
      ]
    },
    {
      "cell_type": "markdown",
      "metadata": {
        "id": "gVyxk6O54Prn"
      },
      "source": [
        "Pętla for"
      ]
    },
    {
      "cell_type": "code",
      "metadata": {
        "colab": {
          "base_uri": "https://localhost:8080/"
        },
        "id": "e-8KG18s4RX4",
        "outputId": "f3da5a12-5e43-42da-e546-85d2c5992c90"
      },
      "source": [
        "ludzie = ['tetlak', 'mysza', 'mucha', 'wirus', 'glizda', 'osa']\n",
        "\n",
        "domena = 'aviva.pl'\n",
        "\n",
        "for czlowiek in ludzie:\n",
        "  email = czlowiek + '@' + domena\n",
        "  print('Email for\\t', czlowiek, '\\tis\\t', email)\n",
        "else: \n",
        "  print('---end---')"
      ],
      "execution_count": null,
      "outputs": [
        {
          "output_type": "stream",
          "text": [
            "Email for\t tetlak \tis\t tetlak@aviva.pl\n",
            "Email for\t mysza \tis\t mysza@aviva.pl\n",
            "Email for\t mucha \tis\t mucha@aviva.pl\n",
            "Email for\t wirus \tis\t wirus@aviva.pl\n",
            "Email for\t glizda \tis\t glizda@aviva.pl\n",
            "Email for\t osa \tis\t osa@aviva.pl\n",
            "---end---\n"
          ],
          "name": "stdout"
        }
      ]
    },
    {
      "cell_type": "code",
      "metadata": {
        "colab": {
          "base_uri": "https://localhost:8080/"
        },
        "id": "mPqnBEid5uYE",
        "outputId": "33aea8cd-46e9-40c6-a1cc-cafa77067e42"
      },
      "source": [
        "data = ['Error:File cannot be open',\n",
        "        'Error:No free space on disk',\n",
        "        'Error:File missing',\n",
        "        'Warning:Internet connection lost',\n",
        "        'Error:Access denied']\n",
        "\n",
        "for s in data:\n",
        "    print(s.upper())"
      ],
      "execution_count": null,
      "outputs": [
        {
          "output_type": "stream",
          "text": [
            "ERROR:FILE CANNOT BE OPEN\n",
            "ERROR:NO FREE SPACE ON DISK\n",
            "ERROR:FILE MISSING\n",
            "WARNING:INTERNET CONNECTION LOST\n",
            "ERROR:ACCESS DENIED\n"
          ],
          "name": "stdout"
        }
      ]
    },
    {
      "cell_type": "code",
      "metadata": {
        "colab": {
          "base_uri": "https://localhost:8080/"
        },
        "id": "CWzj8B7x8wLs",
        "outputId": "12f9a07e-bfb0-4c95-9f0e-bd8a660de4b1"
      },
      "source": [
        "for s in data:\n",
        " \n",
        "    elements = s.split(':')\n",
        "    print(elements[0].upper())\n",
        "    print(elements[1])"
      ],
      "execution_count": null,
      "outputs": [
        {
          "output_type": "stream",
          "text": [
            "ERROR\n",
            "File cannot be open\n",
            "ERROR\n",
            "No free space on disk\n",
            "ERROR\n",
            "File missing\n",
            "WARNING\n",
            "Internet connection lost\n",
            "ERROR\n",
            "Access denied\n"
          ],
          "name": "stdout"
        }
      ]
    },
    {
      "cell_type": "code",
      "metadata": {
        "colab": {
          "base_uri": "https://localhost:8080/"
        },
        "id": "-pnAHlUQ9m3M",
        "outputId": "c3f42abd-b2be-4863-b924-722a7102d33e"
      },
      "source": [
        "for s in data:\n",
        " \n",
        "    elements = s.split(':')\n",
        "    if elements[0] == 'Error':\n",
        "        print(elements[1].upper())\n",
        "    else:\n",
        "        print(elements[1])"
      ],
      "execution_count": null,
      "outputs": [
        {
          "output_type": "stream",
          "text": [
            "FILE CANNOT BE OPEN\n",
            "NO FREE SPACE ON DISK\n",
            "FILE MISSING\n",
            "Internet connection lost\n",
            "ACCESS DENIED\n"
          ],
          "name": "stdout"
        }
      ]
    },
    {
      "cell_type": "markdown",
      "metadata": {
        "id": "4A-tzKiyfCHD"
      },
      "source": [
        "Pętla for - range (wykonywana okreśolną ilość razy)"
      ]
    },
    {
      "cell_type": "code",
      "metadata": {
        "colab": {
          "base_uri": "https://localhost:8080/"
        },
        "id": "PvDG4IEWfHha",
        "outputId": "d7dfa089-be53-498a-d3b9-f5b950d8cf8b"
      },
      "source": [
        "for number in range(1,5):\n",
        "  print(number)"
      ],
      "execution_count": null,
      "outputs": [
        {
          "output_type": "stream",
          "text": [
            "1\n",
            "2\n",
            "3\n",
            "4\n"
          ],
          "name": "stdout"
        }
      ]
    },
    {
      "cell_type": "code",
      "metadata": {
        "colab": {
          "base_uri": "https://localhost:8080/"
        },
        "id": "Rt2qKhO2f1Bp",
        "outputId": "b988d8b5-704f-4f72-86fd-5db30781f39f"
      },
      "source": [
        "for number in range(1,10,2):\n",
        "  print(number)"
      ],
      "execution_count": null,
      "outputs": [
        {
          "output_type": "stream",
          "text": [
            "1\n",
            "3\n",
            "5\n",
            "7\n",
            "9\n"
          ],
          "name": "stdout"
        }
      ]
    },
    {
      "cell_type": "code",
      "metadata": {
        "colab": {
          "base_uri": "https://localhost:8080/"
        },
        "id": "jcQttzV4gKC0",
        "outputId": "1e28f071-b95b-40d5-d4ee-e70e91f9d8ed"
      },
      "source": [
        "for number in range(1,11):\n",
        "  if number %2 == 0:\n",
        "    print('Liczba %2d jest %s' % (number,'parzysta'))\n",
        "  else:\n",
        "    print('Liczba %2d jest %s' % (number,'nieparzysta'))\n",
        "  print(number)"
      ],
      "execution_count": null,
      "outputs": [
        {
          "output_type": "stream",
          "text": [
            "Liczba  1 jest nieparzysta\n",
            "1\n",
            "Liczba  2 jest parzysta\n",
            "2\n",
            "Liczba  3 jest nieparzysta\n",
            "3\n",
            "Liczba  4 jest parzysta\n",
            "4\n",
            "Liczba  5 jest nieparzysta\n",
            "5\n",
            "Liczba  6 jest parzysta\n",
            "6\n",
            "Liczba  7 jest nieparzysta\n",
            "7\n",
            "Liczba  8 jest parzysta\n",
            "8\n",
            "Liczba  9 jest nieparzysta\n",
            "9\n",
            "Liczba 10 jest parzysta\n",
            "10\n"
          ],
          "name": "stdout"
        }
      ]
    },
    {
      "cell_type": "code",
      "metadata": {
        "colab": {
          "base_uri": "https://localhost:8080/"
        },
        "id": "9yjkFiYOhZG-",
        "outputId": "f915bddb-17d0-43de-fa04-5fdae4c46db5"
      },
      "source": [
        "string_A = '+---+---+---+---+'\n",
        "string_B = '|   |   |   |   |'\n",
        "\n",
        "for i in range(10):\n",
        "    print(string_A)"
      ],
      "execution_count": null,
      "outputs": [
        {
          "output_type": "stream",
          "text": [
            "+---+---+---+---+\n",
            "+---+---+---+---+\n",
            "+---+---+---+---+\n",
            "+---+---+---+---+\n",
            "+---+---+---+---+\n",
            "+---+---+---+---+\n",
            "+---+---+---+---+\n",
            "+---+---+---+---+\n",
            "+---+---+---+---+\n",
            "+---+---+---+---+\n"
          ],
          "name": "stdout"
        }
      ]
    },
    {
      "cell_type": "code",
      "metadata": {
        "colab": {
          "base_uri": "https://localhost:8080/"
        },
        "id": "FZqjFX61ZJNo",
        "outputId": "03ecdd01-3ffe-4831-d3bc-df0df7891b52"
      },
      "source": [
        "for i in range(9):\n",
        "    if i % 2 == 0:\n",
        "        print(string_A)\n",
        "    else:\n",
        "        print(string_B)"
      ],
      "execution_count": null,
      "outputs": [
        {
          "output_type": "stream",
          "text": [
            "+---+---+---+---+\n",
            "|   |   |   |   |\n",
            "+---+---+---+---+\n",
            "|   |   |   |   |\n",
            "+---+---+---+---+\n",
            "|   |   |   |   |\n",
            "+---+---+---+---+\n",
            "|   |   |   |   |\n",
            "+---+---+---+---+\n"
          ],
          "name": "stdout"
        }
      ]
    },
    {
      "cell_type": "code",
      "metadata": {
        "colab": {
          "base_uri": "https://localhost:8080/"
        },
        "id": "VrLNQUUmZQGM",
        "outputId": "7fa0e576-28bb-4816-cf2c-e3efb1ea1e15"
      },
      "source": [
        "for i in range(1,10):\n",
        "  print('x'*i)"
      ],
      "execution_count": null,
      "outputs": [
        {
          "output_type": "stream",
          "text": [
            "x\n",
            "xx\n",
            "xxx\n",
            "xxxx\n",
            "xxxxx\n",
            "xxxxxx\n",
            "xxxxxxx\n",
            "xxxxxxxx\n",
            "xxxxxxxxx\n"
          ],
          "name": "stdout"
        }
      ]
    },
    {
      "cell_type": "code",
      "metadata": {
        "colab": {
          "base_uri": "https://localhost:8080/"
        },
        "id": "f9dpIb0kZohp",
        "outputId": "d4a121df-146b-4966-c081-948a4160b538"
      },
      "source": [
        "for i in range(1,10):\n",
        "    if i % 2 == 0:\n",
        "        print(\"x\"*i)\n",
        "    else:\n",
        "        print(\"o\"*i)"
      ],
      "execution_count": null,
      "outputs": [
        {
          "output_type": "stream",
          "text": [
            "o\n",
            "xx\n",
            "ooo\n",
            "xxxx\n",
            "ooooo\n",
            "xxxxxx\n",
            "ooooooo\n",
            "xxxxxxxx\n",
            "ooooooooo\n"
          ],
          "name": "stdout"
        }
      ]
    },
    {
      "cell_type": "markdown",
      "metadata": {
        "id": "fraxHLV1bQKW"
      },
      "source": [
        "Zagnieżdżona pętla for (tabliczka mnożenia)"
      ]
    },
    {
      "cell_type": "code",
      "metadata": {
        "colab": {
          "base_uri": "https://localhost:8080/"
        },
        "id": "4olkz9eCbBrG",
        "outputId": "9b1a875f-deed-414f-a57f-cc76cce93bda"
      },
      "source": [
        "for x in range(1,6):\n",
        "  for y in range(1,6):\n",
        "    print(x, 'x', y, '=',x*y)"
      ],
      "execution_count": null,
      "outputs": [
        {
          "output_type": "stream",
          "text": [
            "1 x 1 = 1\n",
            "1 x 2 = 2\n",
            "1 x 3 = 3\n",
            "1 x 4 = 4\n",
            "1 x 5 = 5\n",
            "2 x 1 = 2\n",
            "2 x 2 = 4\n",
            "2 x 3 = 6\n",
            "2 x 4 = 8\n",
            "2 x 5 = 10\n",
            "3 x 1 = 3\n",
            "3 x 2 = 6\n",
            "3 x 3 = 9\n",
            "3 x 4 = 12\n",
            "3 x 5 = 15\n",
            "4 x 1 = 4\n",
            "4 x 2 = 8\n",
            "4 x 3 = 12\n",
            "4 x 4 = 16\n",
            "4 x 5 = 20\n",
            "5 x 1 = 5\n",
            "5 x 2 = 10\n",
            "5 x 3 = 15\n",
            "5 x 4 = 20\n",
            "5 x 5 = 25\n"
          ],
          "name": "stdout"
        }
      ]
    },
    {
      "cell_type": "code",
      "metadata": {
        "colab": {
          "base_uri": "https://localhost:8080/"
        },
        "id": "vUKyLj-fcZTA",
        "outputId": "3024e05f-9509-4f76-b896-b731d3a011c6"
      },
      "source": [
        "for x in range(1,6):\n",
        "  line = str(x)\n",
        "  for y in range(1,6):\n",
        "    line += ('\\t%3d' % (x*y))\n",
        "  print(line)"
      ],
      "execution_count": null,
      "outputs": [
        {
          "output_type": "stream",
          "text": [
            "1\t  1\t  2\t  3\t  4\t  5\n",
            "2\t  2\t  4\t  6\t  8\t 10\n",
            "3\t  3\t  6\t  9\t 12\t 15\n",
            "4\t  4\t  8\t 12\t 16\t 20\n",
            "5\t  5\t 10\t 15\t 20\t 25\n"
          ],
          "name": "stdout"
        }
      ]
    },
    {
      "cell_type": "code",
      "metadata": {
        "colab": {
          "base_uri": "https://localhost:8080/"
        },
        "id": "i3cs5Jhnllvk",
        "outputId": "cfc72239-409b-424b-ac45-1e3b8d4a3cbf"
      },
      "source": [
        "list_noun = ['dog', 'potato', 'meal', 'icecream', 'car']\n",
        "list_adj = ['dirty', 'big', 'hot', 'colorful', 'fast']\n",
        " \n",
        "for noun in list_noun:\n",
        "    for adj in list_adj:\n",
        "        print(adj, noun)"
      ],
      "execution_count": null,
      "outputs": [
        {
          "output_type": "stream",
          "text": [
            "dirty dog\n",
            "big dog\n",
            "hot dog\n",
            "colorful dog\n",
            "fast dog\n",
            "dirty potato\n",
            "big potato\n",
            "hot potato\n",
            "colorful potato\n",
            "fast potato\n",
            "dirty meal\n",
            "big meal\n",
            "hot meal\n",
            "colorful meal\n",
            "fast meal\n",
            "dirty icecream\n",
            "big icecream\n",
            "hot icecream\n",
            "colorful icecream\n",
            "fast icecream\n",
            "dirty car\n",
            "big car\n",
            "hot car\n",
            "colorful car\n",
            "fast car\n"
          ],
          "name": "stdout"
        }
      ]
    },
    {
      "cell_type": "markdown",
      "metadata": {
        "id": "IIU0eKd6q_fs"
      },
      "source": [
        "Instrukcja break (przerwanie pętli)"
      ]
    },
    {
      "cell_type": "code",
      "metadata": {
        "colab": {
          "base_uri": "https://localhost:8080/"
        },
        "id": "tcNyYEh-nilA",
        "outputId": "ce409d71-35dc-4ea8-bea8-6db5a7672e24"
      },
      "source": [
        "for a in range(2,31):\n",
        "  for b in range(2,a):\n",
        "    if a % b == 0:\n",
        "      print('%2d nie jest liczbą pierwszą - dzielnikiem jest %2d' % (a,b)) \n",
        "      break"
      ],
      "execution_count": null,
      "outputs": [
        {
          "output_type": "stream",
          "text": [
            " 4 nie jest liczbą pierwszą - dzielnikiem jest  2\n",
            " 6 nie jest liczbą pierwszą - dzielnikiem jest  2\n",
            " 8 nie jest liczbą pierwszą - dzielnikiem jest  2\n",
            " 9 nie jest liczbą pierwszą - dzielnikiem jest  3\n",
            "10 nie jest liczbą pierwszą - dzielnikiem jest  2\n",
            "12 nie jest liczbą pierwszą - dzielnikiem jest  2\n",
            "14 nie jest liczbą pierwszą - dzielnikiem jest  2\n",
            "15 nie jest liczbą pierwszą - dzielnikiem jest  3\n",
            "16 nie jest liczbą pierwszą - dzielnikiem jest  2\n",
            "18 nie jest liczbą pierwszą - dzielnikiem jest  2\n",
            "20 nie jest liczbą pierwszą - dzielnikiem jest  2\n",
            "21 nie jest liczbą pierwszą - dzielnikiem jest  3\n",
            "22 nie jest liczbą pierwszą - dzielnikiem jest  2\n",
            "24 nie jest liczbą pierwszą - dzielnikiem jest  2\n",
            "25 nie jest liczbą pierwszą - dzielnikiem jest  5\n",
            "26 nie jest liczbą pierwszą - dzielnikiem jest  2\n",
            "27 nie jest liczbą pierwszą - dzielnikiem jest  3\n",
            "28 nie jest liczbą pierwszą - dzielnikiem jest  2\n",
            "30 nie jest liczbą pierwszą - dzielnikiem jest  2\n"
          ],
          "name": "stdout"
        }
      ]
    },
    {
      "cell_type": "code",
      "metadata": {
        "colab": {
          "base_uri": "https://localhost:8080/"
        },
        "id": "7VK0hUZq80XL",
        "outputId": "7adf7d33-831d-4ce8-e54a-bb0b34af7949"
      },
      "source": [
        "for a in range(2,31):\n",
        "\n",
        "  liczbaPierwsza = True\n",
        "\n",
        "  for b in range(2,a):\n",
        "    if a % b == 0:\n",
        "      liczbaPierwsza = False\n",
        "      print('%2d nie jest liczbą pierwszą - dzielnikiem jest %2d' % (a,b)) \n",
        "      break\n",
        "\n",
        "  if liczbaPierwsza:\n",
        "    print('%2d is prime!' % (a))"
      ],
      "execution_count": null,
      "outputs": [
        {
          "output_type": "stream",
          "text": [
            " 2 is prime!\n",
            " 3 is prime!\n",
            " 4 nie jest liczbą pierwszą - dzielnikiem jest  2\n",
            " 5 is prime!\n",
            " 6 nie jest liczbą pierwszą - dzielnikiem jest  2\n",
            " 7 is prime!\n",
            " 8 nie jest liczbą pierwszą - dzielnikiem jest  2\n",
            " 9 nie jest liczbą pierwszą - dzielnikiem jest  3\n",
            "10 nie jest liczbą pierwszą - dzielnikiem jest  2\n",
            "11 is prime!\n",
            "12 nie jest liczbą pierwszą - dzielnikiem jest  2\n",
            "13 is prime!\n",
            "14 nie jest liczbą pierwszą - dzielnikiem jest  2\n",
            "15 nie jest liczbą pierwszą - dzielnikiem jest  3\n",
            "16 nie jest liczbą pierwszą - dzielnikiem jest  2\n",
            "17 is prime!\n",
            "18 nie jest liczbą pierwszą - dzielnikiem jest  2\n",
            "19 is prime!\n",
            "20 nie jest liczbą pierwszą - dzielnikiem jest  2\n",
            "21 nie jest liczbą pierwszą - dzielnikiem jest  3\n",
            "22 nie jest liczbą pierwszą - dzielnikiem jest  2\n",
            "23 is prime!\n",
            "24 nie jest liczbą pierwszą - dzielnikiem jest  2\n",
            "25 nie jest liczbą pierwszą - dzielnikiem jest  5\n",
            "26 nie jest liczbą pierwszą - dzielnikiem jest  2\n",
            "27 nie jest liczbą pierwszą - dzielnikiem jest  3\n",
            "28 nie jest liczbą pierwszą - dzielnikiem jest  2\n",
            "29 is prime!\n",
            "30 nie jest liczbą pierwszą - dzielnikiem jest  2\n"
          ],
          "name": "stdout"
        }
      ]
    },
    {
      "cell_type": "code",
      "metadata": {
        "colab": {
          "base_uri": "https://localhost:8080/"
        },
        "id": "qJH3PvWi_Xcu",
        "outputId": "fab9b56c-3d73-402e-fd13-1f375936293d"
      },
      "source": [
        "for a in range(2,31):\n",
        "\n",
        "  for b in range(2,a):\n",
        "    if a % b == 0:\n",
        "      print('%2d nie jest liczbą pierwszą - dzielnikiem jest %2d' % (a,b)) \n",
        "      break\n",
        "\n",
        "  else:\n",
        "    print('%2d is prime!' % (a))"
      ],
      "execution_count": null,
      "outputs": [
        {
          "output_type": "stream",
          "text": [
            " 2 is prime!\n",
            " 3 is prime!\n",
            " 4 nie jest liczbą pierwszą - dzielnikiem jest  2\n",
            " 5 is prime!\n",
            " 6 nie jest liczbą pierwszą - dzielnikiem jest  2\n",
            " 7 is prime!\n",
            " 8 nie jest liczbą pierwszą - dzielnikiem jest  2\n",
            " 9 nie jest liczbą pierwszą - dzielnikiem jest  3\n",
            "10 nie jest liczbą pierwszą - dzielnikiem jest  2\n",
            "11 is prime!\n",
            "12 nie jest liczbą pierwszą - dzielnikiem jest  2\n",
            "13 is prime!\n",
            "14 nie jest liczbą pierwszą - dzielnikiem jest  2\n",
            "15 nie jest liczbą pierwszą - dzielnikiem jest  3\n",
            "16 nie jest liczbą pierwszą - dzielnikiem jest  2\n",
            "17 is prime!\n",
            "18 nie jest liczbą pierwszą - dzielnikiem jest  2\n",
            "19 is prime!\n",
            "20 nie jest liczbą pierwszą - dzielnikiem jest  2\n",
            "21 nie jest liczbą pierwszą - dzielnikiem jest  3\n",
            "22 nie jest liczbą pierwszą - dzielnikiem jest  2\n",
            "23 is prime!\n",
            "24 nie jest liczbą pierwszą - dzielnikiem jest  2\n",
            "25 nie jest liczbą pierwszą - dzielnikiem jest  5\n",
            "26 nie jest liczbą pierwszą - dzielnikiem jest  2\n",
            "27 nie jest liczbą pierwszą - dzielnikiem jest  3\n",
            "28 nie jest liczbą pierwszą - dzielnikiem jest  2\n",
            "29 is prime!\n",
            "30 nie jest liczbą pierwszą - dzielnikiem jest  2\n"
          ],
          "name": "stdout"
        }
      ]
    },
    {
      "cell_type": "code",
      "metadata": {
        "colab": {
          "base_uri": "https://localhost:8080/"
        },
        "id": "OaYJK2aOAScn",
        "outputId": "46f553e5-87b1-4bf8-bdce-4b58be287787"
      },
      "source": [
        "text = 'Mechanical advantage is a measure of the force amplification achieved by using a tool, mechanical device or machine system. The device preserves the input power and simply trades off forces against movement to obtain a desired amplification in the output force. The model for this is the law of the lever. Machine components designed to manage forces and movement in this way are called mechanisms.[1] An ideal mechanism transmits power without adding to or subtracting from it. This means the ideal mechanism does not include a power source, is frictionless, and is constructed from rigid bodies that do not deflect or wear. The performance of a real system relative to this ideal.'\n",
        "short_text = ''\n",
        " \n",
        "words = text.split(' ')\n",
        "counter = 0\n",
        " \n",
        "for word in words:\n",
        "    \n",
        "    short_text += word+' '\n",
        "    counter += 1\n",
        " \n",
        "    if counter>=20:\n",
        "        print(short_text)\n",
        "        break"
      ],
      "execution_count": null,
      "outputs": [
        {
          "output_type": "stream",
          "text": [
            "Mechanical advantage is a measure of the force amplification achieved by using a tool, mechanical device or machine system. The \n"
          ],
          "name": "stdout"
        }
      ]
    },
    {
      "cell_type": "code",
      "metadata": {
        "colab": {
          "base_uri": "https://localhost:8080/"
        },
        "id": "ATKMcMqWzrXr",
        "outputId": "8a16f5de-ea6a-4641-a033-d772b061a38a"
      },
      "source": [
        "definitions = [\n",
        "    'Mechanical advantage is a measure of the force amplification achieved by using a tool, mechanical device or machine system. The device preserves the input power and simply trades off forces against movement to obtain a desired amplification in the output force. The model for this is the law of the lever. Machine components designed to manage forces and movement in this way are called mechanisms.[1] An ideal mechanism transmits power without adding to or subtracting from it. This means the ideal mechanism does not include a power source, is frictionless, and is constructed from rigid bodies that do not deflect or wear. The performance of a real system relative to this ideal.',\n",
        "    'Ein Kraftwandler ist eine mechanische Anordnung zur Veränderung einer Kraft in Bezug auf ihren Angriffspunkt, ihre Richtung oder ihren Betrag. Die einfachsten Kraftwandler sind Seile, Stangen, Rollen, schiefe Ebenen und Hebel. Dies sind gleichzeitig die grundlegenden einfachen Maschinen.',\n",
        "    'La ventaja mecánica es una magnitud adimensional que indica cuánto se amplifica la fuerza aplicada usando un mecanismo (ya sea una máquina simple, una herramienta o un dispositivo mecánico más complejo) para contrarrestar una carga de resistencia.',\n",
        "    'Cette notion s\\'applique de manière évidente dans les systèmes de poulies et de leviers. Elle est centrale dans les systèmes de freinage : on applique une petite force sur un parcours important et l\\'on obtient une force importante transmise au système de freinage pour une course de faible distance.'  \n",
        "    ]\n",
        " \n",
        "for definition in definitions:\n",
        " \n",
        "    words = definition.split(' ')\n",
        "    short_text = ''\n",
        "    counter = 0\n",
        " \n",
        "    for word in words:\n",
        " \n",
        "        short_text += word+' '\n",
        "        counter += 1\n",
        " \n",
        "        if counter>=20:\n",
        "            print(short_text)\n",
        "            break"
      ],
      "execution_count": null,
      "outputs": [
        {
          "output_type": "stream",
          "text": [
            "Mechanical advantage is a measure of the force amplification achieved by using a tool, mechanical device or machine system. The \n",
            "Ein Kraftwandler ist eine mechanische Anordnung zur Veränderung einer Kraft in Bezug auf ihren Angriffspunkt, ihre Richtung oder ihren Betrag. \n",
            "La ventaja mecánica es una magnitud adimensional que indica cuánto se amplifica la fuerza aplicada usando un mecanismo (ya sea \n",
            "Cette notion s'applique de manière évidente dans les systèmes de poulies et de leviers. Elle est centrale dans les systèmes \n"
          ],
          "name": "stdout"
        }
      ]
    },
    {
      "cell_type": "markdown",
      "metadata": {
        "id": "0JJ2v56T0HlZ"
      },
      "source": [
        "Instrukcja continue:"
      ]
    },
    {
      "cell_type": "code",
      "metadata": {
        "colab": {
          "base_uri": "https://localhost:8080/"
        },
        "id": "hK_REc490MHS",
        "outputId": "4c5f45c3-c562-4f35-eee8-993bb0b2a947"
      },
      "source": [
        "ludzie = ['tetlak@firma.pl', 'mysza', 'mucha', 'wirus@box.com', 'glizda', 'osa']\n",
        "\n",
        "domena = 'aviva.pl'\n",
        "emails = []\n",
        "\n",
        "for czlowiek in ludzie:\n",
        "  if '@' in czlowiek:\n",
        "    emails.append(czlowiek)\n",
        "\n",
        "  else:\n",
        "    email = czlowiek+'@'+domena\n",
        "    emails.append(email)\n",
        "\n",
        "for email in emails:\n",
        "  print(email)"
      ],
      "execution_count": null,
      "outputs": [
        {
          "output_type": "stream",
          "text": [
            "tetlak@firma.pl\n",
            "mysza@aviva.pl\n",
            "mucha@aviva.pl\n",
            "wirus@box.com\n",
            "glizda@aviva.pl\n",
            "osa@aviva.pl\n"
          ],
          "name": "stdout"
        }
      ]
    },
    {
      "cell_type": "code",
      "metadata": {
        "colab": {
          "base_uri": "https://localhost:8080/"
        },
        "id": "wawS4vE52Uoc",
        "outputId": "6297a388-ba30-4daa-8dc2-e016ae59ab6e"
      },
      "source": [
        "ludzie = ['tetlak@firma.pl', 'mysza', 'mucha', 'wirus@box.com', 'glizda', 'osa']\n",
        "\n",
        "domena = 'aviva.pl'\n",
        "emails = []\n",
        "\n",
        "for czlowiek in ludzie:\n",
        "  if '@' in czlowiek:\n",
        "    emails.append(czlowiek)\n",
        "    continue\n",
        "\n",
        "  email = czlowiek+'@'+domena\n",
        "  emails.append(email)\n",
        "\n",
        "for email in emails:\n",
        "  print(email)"
      ],
      "execution_count": null,
      "outputs": [
        {
          "output_type": "stream",
          "text": [
            "tetlak@firma.pl\n",
            "mysza@aviva.pl\n",
            "mucha@aviva.pl\n",
            "wirus@box.com\n",
            "glizda@aviva.pl\n",
            "osa@aviva.pl\n"
          ],
          "name": "stdout"
        }
      ]
    },
    {
      "cell_type": "code",
      "metadata": {
        "colab": {
          "base_uri": "https://localhost:8080/"
        },
        "id": "aLbvBbcG6WpI",
        "outputId": "71686745-1618-40ff-acaf-8a41ba45c7e6"
      },
      "source": [
        "initialCapital = 20000\n",
        "percent = 0.03\n",
        "maxTimeYears = 10\n",
        "year=0\n",
        "capital=initialCapital\n",
        "while year<maxTimeYears:\n",
        "    year+=1\n",
        "    capital=round((1+percent)*capital,2)\n",
        "    print('after this year:', year,  'you will have:',capital)\n",
        "else:\n",
        "    print('the total revenue is', capital-initialCapital)"
      ],
      "execution_count": null,
      "outputs": [
        {
          "output_type": "stream",
          "text": [
            "after this year: 1 you will have: 20600.0\n",
            "after this year: 2 you will have: 21218.0\n",
            "after this year: 3 you will have: 21854.54\n",
            "after this year: 4 you will have: 22510.18\n",
            "after this year: 5 you will have: 23185.49\n",
            "after this year: 6 you will have: 23881.05\n",
            "after this year: 7 you will have: 24597.48\n",
            "after this year: 8 you will have: 25335.4\n",
            "after this year: 9 you will have: 26095.46\n",
            "after this year: 10 you will have: 26878.32\n",
            "the total revenue is 6878.32\n"
          ],
          "name": "stdout"
        }
      ]
    },
    {
      "cell_type": "code",
      "metadata": {
        "colab": {
          "base_uri": "https://localhost:8080/"
        },
        "id": "U6fFcnfZ8pt3",
        "outputId": "af42db59-28a6-4e5c-baad-c8fbde243973"
      },
      "source": [
        "number=20730906\n",
        "tmpnumber = number\n",
        "sumOfDigits = 0\n",
        "while tmpnumber >0:\n",
        "    digit = tmpnumber % 10\n",
        "    sumOfDigits += digit\n",
        "    tmpnumber = tmpnumber//10\n",
        "else:\n",
        "    print('the sum of digits of ', number, ' is',sumOfDigits)"
      ],
      "execution_count": null,
      "outputs": [
        {
          "output_type": "stream",
          "text": [
            "the sum of digits of  20730906  is 27\n"
          ],
          "name": "stdout"
        }
      ]
    },
    {
      "cell_type": "code",
      "metadata": {
        "colab": {
          "base_uri": "https://localhost:8080/"
        },
        "id": "zQ_piMdt9tFn",
        "outputId": "b9042dac-6c8c-424e-e52a-048dd745711a"
      },
      "source": [
        "fibonacciIterations = 20\n",
        "a1 = 0\n",
        "a2 = 1\n",
        "a3 = 0\n",
        "for i in range(0,20):\n",
        "    print('Step',i,'value',a3)\n",
        "    a1=a2\n",
        "    a2=a3\n",
        "    a3=a1+a2"
      ],
      "execution_count": null,
      "outputs": [
        {
          "output_type": "stream",
          "text": [
            "Step 0 value 0\n",
            "Step 1 value 1\n",
            "Step 2 value 1\n",
            "Step 3 value 2\n",
            "Step 4 value 3\n",
            "Step 5 value 5\n",
            "Step 6 value 8\n",
            "Step 7 value 13\n",
            "Step 8 value 21\n",
            "Step 9 value 34\n",
            "Step 10 value 55\n",
            "Step 11 value 89\n",
            "Step 12 value 144\n",
            "Step 13 value 233\n",
            "Step 14 value 377\n",
            "Step 15 value 610\n",
            "Step 16 value 987\n",
            "Step 17 value 1597\n",
            "Step 18 value 2584\n",
            "Step 19 value 4181\n"
          ],
          "name": "stdout"
        }
      ]
    },
    {
      "cell_type": "code",
      "metadata": {
        "colab": {
          "base_uri": "https://localhost:8080/"
        },
        "id": "A_jy5BFf92lU",
        "outputId": "bb702209-7225-4225-f9f4-8bd5e637b015"
      },
      "source": [
        "dictionary={'A':'80%-10%','B':'60%-80%','C':'50-60%','D':'less then 50%'}\n",
        "for word in dictionary.keys():\n",
        "    print(word,'-',dictionary[word])"
      ],
      "execution_count": null,
      "outputs": [
        {
          "output_type": "stream",
          "text": [
            "A - 80%-10%\n",
            "B - 60%-80%\n",
            "C - 50-60%\n",
            "D - less then 50%\n"
          ],
          "name": "stdout"
        }
      ]
    }
  ]
}