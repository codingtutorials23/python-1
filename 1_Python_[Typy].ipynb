{
  "nbformat": 4,
  "nbformat_minor": 0,
  "metadata": {
    "colab": {
      "name": "1.Python [Typy].ipynb",
      "provenance": [],
      "authorship_tag": "ABX9TyNd2pWEGEHAYGuK0FsTyCy5"
    },
    "kernelspec": {
      "name": "python3",
      "display_name": "Python 3"
    },
    "language_info": {
      "name": "python"
    }
  },
  "cells": [
    {
      "cell_type": "markdown",
      "metadata": {
        "id": "DW-ucXqKlW1O"
      },
      "source": [
        "Typ string:"
      ]
    },
    {
      "cell_type": "code",
      "metadata": {
        "id": "kxCkXwX3jzLN"
      },
      "source": [
        "atext='text'"
      ],
      "execution_count": null,
      "outputs": []
    },
    {
      "cell_type": "code",
      "metadata": {
        "colab": {
          "base_uri": "https://localhost:8080/"
        },
        "id": "M1LEHb36lN93",
        "outputId": "68e71fff-a0b9-4615-aa75-45b732479c7a"
      },
      "source": [
        "atext.endswith('ext')"
      ],
      "execution_count": null,
      "outputs": [
        {
          "output_type": "execute_result",
          "data": {
            "text/plain": [
              "True"
            ]
          },
          "metadata": {},
          "execution_count": 2
        }
      ]
    },
    {
      "cell_type": "code",
      "metadata": {
        "colab": {
          "base_uri": "https://localhost:8080/"
        },
        "id": "MO0PHMv6lm9-",
        "outputId": "b133d14c-7945-4bfb-e18b-df94417b5633"
      },
      "source": [
        "atext.islower()"
      ],
      "execution_count": null,
      "outputs": [
        {
          "output_type": "execute_result",
          "data": {
            "text/plain": [
              "True"
            ]
          },
          "metadata": {},
          "execution_count": 3
        }
      ]
    },
    {
      "cell_type": "code",
      "metadata": {
        "colab": {
          "base_uri": "https://localhost:8080/",
          "height": 35
        },
        "id": "wSBJjuXql7LK",
        "outputId": "eb0502be-b3a0-4a7b-9e3e-099a93f6c3fd"
      },
      "source": [
        "atext.upper()"
      ],
      "execution_count": null,
      "outputs": [
        {
          "output_type": "execute_result",
          "data": {
            "application/vnd.google.colaboratory.intrinsic+json": {
              "type": "string"
            },
            "text/plain": [
              "'TEXT'"
            ]
          },
          "metadata": {},
          "execution_count": 4
        }
      ]
    },
    {
      "cell_type": "code",
      "metadata": {
        "colab": {
          "base_uri": "https://localhost:8080/"
        },
        "id": "iqR6_wugl_5m",
        "outputId": "7f3ca088-0eda-439d-f58b-cb5971a61d68"
      },
      "source": [
        "atext.upper().isupper()"
      ],
      "execution_count": null,
      "outputs": [
        {
          "output_type": "execute_result",
          "data": {
            "text/plain": [
              "True"
            ]
          },
          "metadata": {},
          "execution_count": 5
        }
      ]
    },
    {
      "cell_type": "code",
      "metadata": {
        "colab": {
          "base_uri": "https://localhost:8080/"
        },
        "id": "uJU3xUfXp77c",
        "outputId": "3ca274ba-eb8d-4dc3-9082-751c544be74e"
      },
      "source": [
        "atext.find('x')"
      ],
      "execution_count": null,
      "outputs": [
        {
          "output_type": "execute_result",
          "data": {
            "text/plain": [
              "2"
            ]
          },
          "metadata": {},
          "execution_count": 6
        }
      ]
    },
    {
      "cell_type": "code",
      "metadata": {
        "colab": {
          "base_uri": "https://localhost:8080/",
          "height": 35
        },
        "id": "-br-iudjq11i",
        "outputId": "00682757-dd56-4894-f5ca-c14c2bf467c0"
      },
      "source": [
        "atext.replace('t','5')"
      ],
      "execution_count": null,
      "outputs": [
        {
          "output_type": "execute_result",
          "data": {
            "application/vnd.google.colaboratory.intrinsic+json": {
              "type": "string"
            },
            "text/plain": [
              "'5ex5'"
            ]
          },
          "metadata": {},
          "execution_count": 12
        }
      ]
    },
    {
      "cell_type": "code",
      "metadata": {
        "colab": {
          "base_uri": "https://localhost:8080/"
        },
        "id": "G7Ok7tLHsk53",
        "outputId": "1b0b0127-dd0c-469d-c2ef-d22fad5f5688"
      },
      "source": [
        "example = 'to jest text'\n",
        "example.split(' ')"
      ],
      "execution_count": null,
      "outputs": [
        {
          "output_type": "execute_result",
          "data": {
            "text/plain": [
              "['to', 'jest', 'text']"
            ]
          },
          "metadata": {},
          "execution_count": 13
        }
      ]
    },
    {
      "cell_type": "code",
      "metadata": {
        "id": "M7wKirXjs9H-"
      },
      "source": [
        "liczba = '1000'"
      ],
      "execution_count": null,
      "outputs": []
    },
    {
      "cell_type": "code",
      "metadata": {
        "colab": {
          "base_uri": "https://localhost:8080/"
        },
        "id": "9yvhKfDWtT8j",
        "outputId": "b798e1c8-fd97-4dfc-bf68-5e4a41f191d8"
      },
      "source": [
        "liczba.isdigit()"
      ],
      "execution_count": null,
      "outputs": [
        {
          "output_type": "execute_result",
          "data": {
            "text/plain": [
              "True"
            ]
          },
          "metadata": {},
          "execution_count": 15
        }
      ]
    },
    {
      "cell_type": "code",
      "metadata": {
        "colab": {
          "base_uri": "https://localhost:8080/"
        },
        "id": "kzuNtR3Ctakj",
        "outputId": "c4497d01-94ba-41ed-8488-f14619c1c3cf"
      },
      "source": [
        "liczba.isdecimal()"
      ],
      "execution_count": null,
      "outputs": [
        {
          "output_type": "execute_result",
          "data": {
            "text/plain": [
              "True"
            ]
          },
          "metadata": {},
          "execution_count": 16
        }
      ]
    },
    {
      "cell_type": "code",
      "metadata": {
        "id": "yJh4mpmjtgwK",
        "colab": {
          "base_uri": "https://localhost:8080/"
        },
        "outputId": "fdce24ec-b48b-450f-8fef-a5d49ce2ad88"
      },
      "source": [
        "drive = 'c:\\\\'\n",
        "folder = 'scripts\\\\python\\\\'\n",
        "file = 'myscript.py'\n",
        "path = drive + folder + file\n",
        "print(path)"
      ],
      "execution_count": null,
      "outputs": [
        {
          "output_type": "stream",
          "text": [
            "c:\\scripts\\python\\myscript.py\n"
          ],
          "name": "stdout"
        }
      ]
    },
    {
      "cell_type": "code",
      "metadata": {
        "colab": {
          "base_uri": "https://localhost:8080/",
          "height": 35
        },
        "id": "m7nvTo0kvM8J",
        "outputId": "fceb2f99-f4ca-41ac-be30-8e79726e7dc4"
      },
      "source": [
        "path"
      ],
      "execution_count": null,
      "outputs": [
        {
          "output_type": "execute_result",
          "data": {
            "application/vnd.google.colaboratory.intrinsic+json": {
              "type": "string"
            },
            "text/plain": [
              "'c:\\\\scripts\\\\python\\\\myscript.py'"
            ]
          },
          "metadata": {},
          "execution_count": 25
        }
      ]
    },
    {
      "cell_type": "code",
      "metadata": {
        "colab": {
          "base_uri": "https://localhost:8080/",
          "height": 35
        },
        "id": "3k_H4Az5KVHg",
        "outputId": "0b2a6b0f-8806-4e0a-8e71-f8f1943763a1"
      },
      "source": [
        "znakNowejLini = 'znak nowej\\lini'\n",
        "znakNowejLini"
      ],
      "execution_count": null,
      "outputs": [
        {
          "output_type": "execute_result",
          "data": {
            "application/vnd.google.colaboratory.intrinsic+json": {
              "type": "string"
            },
            "text/plain": [
              "'znak nowej\\\\lini'"
            ]
          },
          "metadata": {},
          "execution_count": 26
        }
      ]
    },
    {
      "cell_type": "code",
      "metadata": {
        "colab": {
          "base_uri": "https://localhost:8080/"
        },
        "id": "xb2b41OFKrPD",
        "outputId": "808b3baf-fd4c-4538-8e2a-03a612bfcc66"
      },
      "source": [
        "print('znakNowejLini')"
      ],
      "execution_count": null,
      "outputs": [
        {
          "output_type": "stream",
          "text": [
            "znakNowejLini\n"
          ],
          "name": "stdout"
        }
      ]
    },
    {
      "cell_type": "code",
      "metadata": {
        "colab": {
          "base_uri": "https://localhost:8080/"
        },
        "id": "cxnV3c4aKwzq",
        "outputId": "250b441b-2831-4b82-f3ea-1eea8bd926e8"
      },
      "source": [
        "liczbaJakoString = '100'\n",
        "int(liczbaJakoString)+1"
      ],
      "execution_count": null,
      "outputs": [
        {
          "output_type": "execute_result",
          "data": {
            "text/plain": [
              "101"
            ]
          },
          "metadata": {},
          "execution_count": 29
        }
      ]
    },
    {
      "cell_type": "code",
      "metadata": {
        "colab": {
          "base_uri": "https://localhost:8080/",
          "height": 35
        },
        "id": "zeitbGvpMXLW",
        "outputId": "bf1a2d81-eb27-4d47-8b18-0d4f259471c5"
      },
      "source": [
        "liczbaJakoString"
      ],
      "execution_count": null,
      "outputs": [
        {
          "output_type": "execute_result",
          "data": {
            "application/vnd.google.colaboratory.intrinsic+json": {
              "type": "string"
            },
            "text/plain": [
              "'100'"
            ]
          },
          "metadata": {},
          "execution_count": 31
        }
      ]
    },
    {
      "cell_type": "code",
      "metadata": {
        "colab": {
          "base_uri": "https://localhost:8080/"
        },
        "id": "ujXZJ94uMlAt",
        "outputId": "a033d420-7795-4012-b561-31ae74bcb398"
      },
      "source": [
        "type(liczbaJakoString)"
      ],
      "execution_count": null,
      "outputs": [
        {
          "output_type": "execute_result",
          "data": {
            "text/plain": [
              "str"
            ]
          },
          "metadata": {},
          "execution_count": 32
        }
      ]
    },
    {
      "cell_type": "code",
      "metadata": {
        "colab": {
          "base_uri": "https://localhost:8080/"
        },
        "id": "WjE5jB8hNDk1",
        "outputId": "cb106220-db1e-4c93-b806-f92f6ebdd6ba"
      },
      "source": [
        "type(int(liczbaJakoString)+1)"
      ],
      "execution_count": null,
      "outputs": [
        {
          "output_type": "execute_result",
          "data": {
            "text/plain": [
              "int"
            ]
          },
          "metadata": {},
          "execution_count": 33
        }
      ]
    },
    {
      "cell_type": "markdown",
      "metadata": {
        "id": "vGEXhV0lP3BE"
      },
      "source": [
        "Formatowanie napisów:"
      ]
    },
    {
      "cell_type": "code",
      "metadata": {
        "id": "9BxChXodOKF6",
        "colab": {
          "base_uri": "https://localhost:8080/"
        },
        "outputId": "2f65a527-9254-46a3-b06e-2c5a78cb6ce6"
      },
      "source": [
        "message1 = 'Processing file %s'\n",
        "print(message1 % ('file_1'))"
      ],
      "execution_count": null,
      "outputs": [
        {
          "output_type": "stream",
          "text": [
            "Processing file file_1\n"
          ],
          "name": "stdout"
        }
      ]
    },
    {
      "cell_type": "code",
      "metadata": {
        "id": "oszXincRQxx3"
      },
      "source": [
        "helloMessage = \"Hello %s!\""
      ],
      "execution_count": null,
      "outputs": []
    },
    {
      "cell_type": "code",
      "metadata": {
        "colab": {
          "base_uri": "https://localhost:8080/"
        },
        "id": "U9u3bAX5RUjs",
        "outputId": "78d82e88-184a-41c6-dcf1-a1b8f249699d"
      },
      "source": [
        "print(helloMessage % (\"Kate\"))"
      ],
      "execution_count": null,
      "outputs": [
        {
          "output_type": "stream",
          "text": [
            "Hello Kate!\n"
          ],
          "name": "stdout"
        }
      ]
    },
    {
      "cell_type": "code",
      "metadata": {
        "colab": {
          "base_uri": "https://localhost:8080/"
        },
        "id": "UMWh2iVhSRmX",
        "outputId": "130c1783-ba67-41f0-98b5-165042b9f7ab"
      },
      "source": [
        "print(helloMessage % (\"Chris\"))"
      ],
      "execution_count": null,
      "outputs": [
        {
          "output_type": "stream",
          "text": [
            "Hello Chris!\n"
          ],
          "name": "stdout"
        }
      ]
    },
    {
      "cell_type": "code",
      "metadata": {
        "id": "L38zYiX_SUlo"
      },
      "source": [
        "helloMessage = \"Hello {0:s}!\""
      ],
      "execution_count": null,
      "outputs": []
    },
    {
      "cell_type": "code",
      "metadata": {
        "colab": {
          "base_uri": "https://localhost:8080/"
        },
        "id": "N_Jvf0b5ScgP",
        "outputId": "35f0f2a0-506e-4cca-a4c7-e01362dd738a"
      },
      "source": [
        "print(helloMessage.format(\"Kate\"))"
      ],
      "execution_count": null,
      "outputs": [
        {
          "output_type": "stream",
          "text": [
            "Hello Kate!\n"
          ],
          "name": "stdout"
        }
      ]
    },
    {
      "cell_type": "code",
      "metadata": {
        "colab": {
          "base_uri": "https://localhost:8080/"
        },
        "id": "rJQ5s7XnSjz7",
        "outputId": "da47b2c4-8e34-4396-ac66-39a1e5a958e4"
      },
      "source": [
        "print(helloMessage.format(\"Chris\"))"
      ],
      "execution_count": null,
      "outputs": [
        {
          "output_type": "stream",
          "text": [
            "Hello Chris!\n"
          ],
          "name": "stdout"
        }
      ]
    },
    {
      "cell_type": "code",
      "metadata": {
        "id": "RWfoZ4vuS14U"
      },
      "source": [
        "helloMessage = \"%s has %d %s\""
      ],
      "execution_count": null,
      "outputs": []
    },
    {
      "cell_type": "code",
      "metadata": {
        "colab": {
          "base_uri": "https://localhost:8080/"
        },
        "id": "1Tr2RBFCS_Sz",
        "outputId": "6250c6f5-007f-47b0-a674-3d71a3030b04"
      },
      "source": [
        "print(helloMessage % (\"Kate\",1,\"animal\"))"
      ],
      "execution_count": null,
      "outputs": [
        {
          "output_type": "stream",
          "text": [
            "Kate has 1 animal\n"
          ],
          "name": "stdout"
        }
      ]
    },
    {
      "cell_type": "code",
      "metadata": {
        "colab": {
          "base_uri": "https://localhost:8080/"
        },
        "id": "NrzbRTy_ToE1",
        "outputId": "8b55374e-e98b-4be0-baf6-8c110dd47be2"
      },
      "source": [
        "print(helloMessage % (\"Chris\",100000,\"$\"))"
      ],
      "execution_count": null,
      "outputs": [
        {
          "output_type": "stream",
          "text": [
            "Chris has 100000 $\n"
          ],
          "name": "stdout"
        }
      ]
    },
    {
      "cell_type": "code",
      "metadata": {
        "colab": {
          "base_uri": "https://localhost:8080/"
        },
        "id": "mt93xdPQTsiZ",
        "outputId": "4bb30bad-0d33-4889-c4f0-11c94e550acc"
      },
      "source": [
        "helloMessage = \"{0:s} has {1:d} {2:s}\"\n",
        "print(helloMessage.format(\"Kate\",1,\"animal\"))"
      ],
      "execution_count": null,
      "outputs": [
        {
          "output_type": "stream",
          "text": [
            "Kate has 1 animal\n"
          ],
          "name": "stdout"
        }
      ]
    },
    {
      "cell_type": "code",
      "metadata": {
        "colab": {
          "base_uri": "https://localhost:8080/"
        },
        "id": "CFfP9QiRT1dg",
        "outputId": "7ee38ec2-7243-4e3c-f29f-91fde9a96ecf"
      },
      "source": [
        "print(helloMessage.format(\"Chris\",100000,\"$\"))"
      ],
      "execution_count": null,
      "outputs": [
        {
          "output_type": "stream",
          "text": [
            "Chris has 100000 $\n"
          ],
          "name": "stdout"
        }
      ]
    },
    {
      "cell_type": "code",
      "metadata": {
        "id": "n8KxqRVNUF9g"
      },
      "source": [
        "line = \"{0:20s} costs {1:10d} €\""
      ],
      "execution_count": null,
      "outputs": []
    },
    {
      "cell_type": "code",
      "metadata": {
        "colab": {
          "base_uri": "https://localhost:8080/"
        },
        "id": "lV6ieeeJUK_A",
        "outputId": "19e1fcf4-c640-4591-d8e4-d0ec7e3d89a2"
      },
      "source": [
        "print(line.format('ICE CREAM',3))"
      ],
      "execution_count": null,
      "outputs": [
        {
          "output_type": "stream",
          "text": [
            "ICE CREAM            costs          3 €\n"
          ],
          "name": "stdout"
        }
      ]
    },
    {
      "cell_type": "code",
      "metadata": {
        "colab": {
          "base_uri": "https://localhost:8080/"
        },
        "id": "HaKQDRC0UNo4",
        "outputId": "a01c47c3-ba78-45c4-9113-b5b6d2519aad"
      },
      "source": [
        "print(line.format('TRIP TO VENICE',119))"
      ],
      "execution_count": null,
      "outputs": [
        {
          "output_type": "stream",
          "text": [
            "TRIP TO VENICE       costs        119 €\n"
          ],
          "name": "stdout"
        }
      ]
    },
    {
      "cell_type": "code",
      "metadata": {
        "colab": {
          "base_uri": "https://localhost:8080/"
        },
        "id": "BGHLRJReUhNM",
        "outputId": "520951c7-7b70-4923-b78d-d47c94312140"
      },
      "source": [
        "print(line.format('PIZZA HAWAII',6))"
      ],
      "execution_count": null,
      "outputs": [
        {
          "output_type": "stream",
          "text": [
            "PIZZA HAWAII         costs          6 €\n"
          ],
          "name": "stdout"
        }
      ]
    },
    {
      "cell_type": "code",
      "metadata": {
        "id": "gD0nT9v2Uj8M"
      },
      "source": [
        "line = '{0:s} {1:d}'"
      ],
      "execution_count": null,
      "outputs": []
    },
    {
      "cell_type": "code",
      "metadata": {
        "colab": {
          "base_uri": "https://localhost:8080/"
        },
        "id": "c1RC9Gj7Unk8",
        "outputId": "a186c412-36a1-4282-ed1a-61707da36c0f"
      },
      "source": [
        "print(line.format('ICE CREAM', 3))"
      ],
      "execution_count": null,
      "outputs": [
        {
          "output_type": "stream",
          "text": [
            "ICE CREAM 3\n"
          ],
          "name": "stdout"
        }
      ]
    },
    {
      "cell_type": "code",
      "metadata": {
        "colab": {
          "base_uri": "https://localhost:8080/"
        },
        "id": "Yo9AX-hLUq4Q",
        "outputId": "acce8772-0b1b-482a-a7a4-468e1be9bac7"
      },
      "source": [
        "print(line.format('TRIP TO VENICE', 119))"
      ],
      "execution_count": null,
      "outputs": [
        {
          "output_type": "stream",
          "text": [
            "TRIP TO VENICE 119\n"
          ],
          "name": "stdout"
        }
      ]
    },
    {
      "cell_type": "code",
      "metadata": {
        "colab": {
          "base_uri": "https://localhost:8080/"
        },
        "id": "ZKE3FBKNU0iQ",
        "outputId": "ef0f61fe-efcc-45f7-cd1d-1446b7a1d1cb"
      },
      "source": [
        "print(line.format('PIZZA HAWAII', 6))"
      ],
      "execution_count": null,
      "outputs": [
        {
          "output_type": "stream",
          "text": [
            "PIZZA HAWAII 6\n"
          ],
          "name": "stdout"
        }
      ]
    },
    {
      "cell_type": "markdown",
      "metadata": {
        "id": "i3w377kbcRQE"
      },
      "source": [
        "Int (liczba całkowita) & Float"
      ]
    },
    {
      "cell_type": "code",
      "metadata": {
        "id": "_XuGzgcdVFlU",
        "colab": {
          "base_uri": "https://localhost:8080/"
        },
        "outputId": "ffc20aab-1e15-4910-920b-b67a5919ac48"
      },
      "source": [
        "import sys\n",
        "sys.maxsize"
      ],
      "execution_count": null,
      "outputs": [
        {
          "output_type": "execute_result",
          "data": {
            "text/plain": [
              "9223372036854775807"
            ]
          },
          "metadata": {},
          "execution_count": 67
        }
      ]
    },
    {
      "cell_type": "code",
      "metadata": {
        "colab": {
          "base_uri": "https://localhost:8080/"
        },
        "id": "mLKmQPSuczEx",
        "outputId": "c2acf59d-a374-4868-e63d-3c9b4831e598"
      },
      "source": [
        "five = 5\n",
        "three = 3\n",
        "five//three"
      ],
      "execution_count": null,
      "outputs": [
        {
          "output_type": "execute_result",
          "data": {
            "text/plain": [
              "1"
            ]
          },
          "metadata": {},
          "execution_count": 68
        }
      ]
    },
    {
      "cell_type": "code",
      "metadata": {
        "colab": {
          "base_uri": "https://localhost:8080/"
        },
        "id": "kR_xRLcXdXC1",
        "outputId": "7da88d48-a594-4c0c-da85-25e0cf320a09"
      },
      "source": [
        "type(five/three)"
      ],
      "execution_count": null,
      "outputs": [
        {
          "output_type": "execute_result",
          "data": {
            "text/plain": [
              "float"
            ]
          },
          "metadata": {},
          "execution_count": 69
        }
      ]
    },
    {
      "cell_type": "code",
      "metadata": {
        "colab": {
          "base_uri": "https://localhost:8080/"
        },
        "id": "xhU6SBzUdaih",
        "outputId": "3cf563fb-9124-4fe4-ef71-971699f29f5f"
      },
      "source": [
        "five % three"
      ],
      "execution_count": null,
      "outputs": [
        {
          "output_type": "execute_result",
          "data": {
            "text/plain": [
              "2"
            ]
          },
          "metadata": {},
          "execution_count": 70
        }
      ]
    },
    {
      "cell_type": "code",
      "metadata": {
        "colab": {
          "base_uri": "https://localhost:8080/"
        },
        "id": "lRazZQUzdho9",
        "outputId": "95ab87b5-60b8-4f30-cecb-05fa8e01c414"
      },
      "source": [
        "float('inf')"
      ],
      "execution_count": null,
      "outputs": [
        {
          "output_type": "execute_result",
          "data": {
            "text/plain": [
              "inf"
            ]
          },
          "metadata": {},
          "execution_count": 71
        }
      ]
    },
    {
      "cell_type": "markdown",
      "metadata": {
        "id": "Tb2o4CH2e4k9"
      },
      "source": [
        "Typy i operatory logiczne:"
      ]
    },
    {
      "cell_type": "code",
      "metadata": {
        "id": "D3oEoa1IdwOk"
      },
      "source": [
        "isAutomaticMode = True\n",
        "is80PercentLight = True\n",
        "isDirectLight = False\n",
        "isRainy = False\n",
        "turnLightsOn = isAutomaticMode and (not is80PercentLight or isDirectLight or isRainy)"
      ],
      "execution_count": null,
      "outputs": []
    },
    {
      "cell_type": "code",
      "metadata": {
        "colab": {
          "base_uri": "https://localhost:8080/"
        },
        "id": "4aTdx-oqfdtR",
        "outputId": "e8598e74-d9ef-4875-f089-84b61d229079"
      },
      "source": [
        "turnLightsOn"
      ],
      "execution_count": null,
      "outputs": [
        {
          "output_type": "execute_result",
          "data": {
            "text/plain": [
              "False"
            ]
          },
          "metadata": {},
          "execution_count": 73
        }
      ]
    },
    {
      "cell_type": "code",
      "metadata": {
        "colab": {
          "base_uri": "https://localhost:8080/"
        },
        "id": "SKClrEtWffgl",
        "outputId": "7be19cb0-1c2b-4877-8787-3eaf7d837161"
      },
      "source": [
        "print(\"Automatic mode:   \",isAutomaticMode)\n",
        "print(\"Is the light good:\",is80PercentLight)\n",
        "print(\"Is sun low:       \",isDirectLight)\n",
        "print(\"Is it rainy:      \",isRainy)\n",
        "print(\"TURN LIGHTS ON:   \",turnLightsOn)"
      ],
      "execution_count": null,
      "outputs": [
        {
          "output_type": "stream",
          "text": [
            "Automatic mode:    True\n",
            "Is the light good: True\n",
            "Is sun low:        False\n",
            "Is it rainy:       False\n",
            "TURN LIGHTS ON:    False\n"
          ],
          "name": "stdout"
        }
      ]
    },
    {
      "cell_type": "code",
      "metadata": {
        "colab": {
          "base_uri": "https://localhost:8080/"
        },
        "id": "fUM7xXiXfkRw",
        "outputId": "4ea27550-b32e-4201-c8de-ace7122c9755"
      },
      "source": [
        "x=1\n",
        "y=1\n",
        "z=1\n",
        "print(x,y,z)"
      ],
      "execution_count": null,
      "outputs": [
        {
          "output_type": "stream",
          "text": [
            "1 1 1\n"
          ],
          "name": "stdout"
        }
      ]
    },
    {
      "cell_type": "code",
      "metadata": {
        "colab": {
          "base_uri": "https://localhost:8080/"
        },
        "id": "By93xVjYk2Kz",
        "outputId": "c1678490-30fa-40ff-ba4a-c40574c67a2e"
      },
      "source": [
        "a=b=c=2\n",
        "print(a,b,c)"
      ],
      "execution_count": null,
      "outputs": [
        {
          "output_type": "stream",
          "text": [
            "2 2 2\n"
          ],
          "name": "stdout"
        }
      ]
    },
    {
      "cell_type": "code",
      "metadata": {
        "colab": {
          "base_uri": "https://localhost:8080/"
        },
        "id": "byYgjv5ulEk6",
        "outputId": "577e6764-dae7-4601-9282-cf41d5bdf0bc"
      },
      "source": [
        "c=3\n",
        "print(a,b,c)"
      ],
      "execution_count": null,
      "outputs": [
        {
          "output_type": "stream",
          "text": [
            "2 2 3\n"
          ],
          "name": "stdout"
        }
      ]
    },
    {
      "cell_type": "markdown",
      "metadata": {
        "id": "PahrklKcn-E1"
      },
      "source": [
        "String jako tablica znaków:"
      ]
    },
    {
      "cell_type": "code",
      "metadata": {
        "colab": {
          "base_uri": "https://localhost:8080/",
          "height": 35
        },
        "id": "lH5LddDmmCA4",
        "outputId": "5a2f8a64-a708-4f61-97f0-718e62e3d3c9"
      },
      "source": [
        "s='To jest tekst'\n",
        "s[0]"
      ],
      "execution_count": null,
      "outputs": [
        {
          "output_type": "execute_result",
          "data": {
            "application/vnd.google.colaboratory.intrinsic+json": {
              "type": "string"
            },
            "text/plain": [
              "'T'"
            ]
          },
          "metadata": {},
          "execution_count": 84
        }
      ]
    },
    {
      "cell_type": "code",
      "metadata": {
        "colab": {
          "base_uri": "https://localhost:8080/",
          "height": 35
        },
        "id": "khtjs4CAoHtl",
        "outputId": "837afee2-9d2f-4569-df03-708b76c5557b"
      },
      "source": [
        "s[10]"
      ],
      "execution_count": null,
      "outputs": [
        {
          "output_type": "execute_result",
          "data": {
            "application/vnd.google.colaboratory.intrinsic+json": {
              "type": "string"
            },
            "text/plain": [
              "'k'"
            ]
          },
          "metadata": {},
          "execution_count": 83
        }
      ]
    },
    {
      "cell_type": "code",
      "metadata": {
        "colab": {
          "base_uri": "https://localhost:8080/",
          "height": 35
        },
        "id": "JR7XORJmoNHU",
        "outputId": "1e224f15-4eb4-470a-faa5-b5f9966149ea"
      },
      "source": [
        "s[3:7]"
      ],
      "execution_count": null,
      "outputs": [
        {
          "output_type": "execute_result",
          "data": {
            "application/vnd.google.colaboratory.intrinsic+json": {
              "type": "string"
            },
            "text/plain": [
              "'jest'"
            ]
          },
          "metadata": {},
          "execution_count": 86
        }
      ]
    },
    {
      "cell_type": "code",
      "metadata": {
        "colab": {
          "base_uri": "https://localhost:8080/"
        },
        "id": "oxY6p4GUohEE",
        "outputId": "c3f5aca9-2361-44d7-9bd6-f114c1f24083"
      },
      "source": [
        "q = \"THE EYES\"\n",
        "print(q)"
      ],
      "execution_count": null,
      "outputs": [
        {
          "output_type": "stream",
          "text": [
            "THE EYES\n"
          ],
          "name": "stdout"
        }
      ]
    },
    {
      "cell_type": "code",
      "metadata": {
        "colab": {
          "base_uri": "https://localhost:8080/"
        },
        "id": "6zTQyh_nqUI4",
        "outputId": "d55e0c90-6bfb-4b7c-b68e-efb3853abf9f"
      },
      "source": [
        "print(q[0],q[1],q[2],q[5],q[3],q[7],q[4],q[6])"
      ],
      "execution_count": null,
      "outputs": [
        {
          "output_type": "stream",
          "text": [
            "T H E Y   S E E\n"
          ],
          "name": "stdout"
        }
      ]
    },
    {
      "cell_type": "code",
      "metadata": {
        "colab": {
          "base_uri": "https://localhost:8080/"
        },
        "id": "ED1_cJToqXKN",
        "outputId": "fa091038-2e66-4a79-c1a5-21c4ef44fa46"
      },
      "source": [
        "line = 'Program \"Kropka nad i\" nadamy o: 22:00'\n",
        "time = line[ line.find(':')+2 : ]\n",
        "\n",
        "print(time)"
      ],
      "execution_count": null,
      "outputs": [
        {
          "output_type": "stream",
          "text": [
            "22:00\n"
          ],
          "name": "stdout"
        }
      ]
    },
    {
      "cell_type": "code",
      "metadata": {
        "colab": {
          "base_uri": "https://localhost:8080/"
        },
        "id": "I12VorZLqmxc",
        "outputId": "18d448b4-fc27-41fb-f8c4-f741e9c5374d"
      },
      "source": [
        "line.find(':')"
      ],
      "execution_count": null,
      "outputs": [
        {
          "output_type": "execute_result",
          "data": {
            "text/plain": [
              "31"
            ]
          },
          "metadata": {},
          "execution_count": 92
        }
      ]
    },
    {
      "cell_type": "code",
      "metadata": {
        "colab": {
          "base_uri": "https://localhost:8080/"
        },
        "id": "XUBGAUUMq2Oj",
        "outputId": "7bee4a68-d480-4242-e8be-529ec6446e6f"
      },
      "source": [
        "tmp = line[ line.find('\"')+1: ]\n",
        "title = tmp [ : tmp.find('\"')]\n",
        "print(title, time)"
      ],
      "execution_count": null,
      "outputs": [
        {
          "output_type": "stream",
          "text": [
            "Kropka nad i 22:00\n"
          ],
          "name": "stdout"
        }
      ]
    },
    {
      "cell_type": "markdown",
      "metadata": {
        "id": "59QZemQqOrdO"
      },
      "source": [
        "Listy:"
      ]
    },
    {
      "cell_type": "code",
      "metadata": {
        "colab": {
          "base_uri": "https://localhost:8080/"
        },
        "id": "GvqXyj7Gseu0",
        "outputId": "b95a53ed-7d2c-4b6d-f3b1-820eeed79fbe"
      },
      "source": [
        "kraje = ['FR','US','DE','RU']\n",
        "kraje[1]='GB'\n",
        "kraje"
      ],
      "execution_count": null,
      "outputs": [
        {
          "output_type": "execute_result",
          "data": {
            "text/plain": [
              "['FR', 'GB', 'DE', 'RU']"
            ]
          },
          "metadata": {},
          "execution_count": 25
        }
      ]
    },
    {
      "cell_type": "code",
      "metadata": {
        "colab": {
          "base_uri": "https://localhost:8080/"
        },
        "id": "1p6TVBBelsOc",
        "outputId": "7d681eec-69d2-4ef2-b03a-033430c22e5e"
      },
      "source": [
        "kraje.append('PL')\n",
        "kraje"
      ],
      "execution_count": null,
      "outputs": [
        {
          "output_type": "execute_result",
          "data": {
            "text/plain": [
              "['FR', 'GB', 'DE', 'RU', 'PL']"
            ]
          },
          "metadata": {},
          "execution_count": 26
        }
      ]
    },
    {
      "cell_type": "code",
      "metadata": {
        "colab": {
          "base_uri": "https://localhost:8080/"
        },
        "id": "qflS8tupl24d",
        "outputId": "c014e69d-c1a8-46f0-da1a-351afd735bdd"
      },
      "source": [
        "kraje.insert(1,'ES')\n",
        "kraje"
      ],
      "execution_count": null,
      "outputs": [
        {
          "output_type": "execute_result",
          "data": {
            "text/plain": [
              "['FR', 'ES', 'GB', 'DE', 'RU', 'PL']"
            ]
          },
          "metadata": {},
          "execution_count": 27
        }
      ]
    },
    {
      "cell_type": "code",
      "metadata": {
        "colab": {
          "base_uri": "https://localhost:8080/"
        },
        "id": "GDbEdfRvmMYj",
        "outputId": "4d6acd69-8f09-4ac7-ed43-a77d329feb37"
      },
      "source": [
        "kraje.remove('DE')\n",
        "kraje"
      ],
      "execution_count": null,
      "outputs": [
        {
          "output_type": "execute_result",
          "data": {
            "text/plain": [
              "['FR', 'ES', 'GB', 'RU', 'PL']"
            ]
          },
          "metadata": {},
          "execution_count": 28
        }
      ]
    },
    {
      "cell_type": "code",
      "metadata": {
        "colab": {
          "base_uri": "https://localhost:8080/"
        },
        "id": "J1Js6Z8vmo1o",
        "outputId": "8baaac66-22b8-42aa-c538-506bb319f02a"
      },
      "source": [
        "kraje.sort()\n",
        "kraje"
      ],
      "execution_count": null,
      "outputs": [
        {
          "output_type": "execute_result",
          "data": {
            "text/plain": [
              "['ES', 'FR', 'GB', 'PL', 'RU']"
            ]
          },
          "metadata": {},
          "execution_count": 31
        }
      ]
    },
    {
      "cell_type": "code",
      "metadata": {
        "colab": {
          "base_uri": "https://localhost:8080/"
        },
        "id": "hziGhd9AnOew",
        "outputId": "95c06938-e22f-4af9-ecb4-42c5f25b5c5c"
      },
      "source": [
        "kraje.index('ES')"
      ],
      "execution_count": null,
      "outputs": [
        {
          "output_type": "execute_result",
          "data": {
            "text/plain": [
              "0"
            ]
          },
          "metadata": {},
          "execution_count": 32
        }
      ]
    },
    {
      "cell_type": "code",
      "metadata": {
        "colab": {
          "base_uri": "https://localhost:8080/"
        },
        "id": "A6xwLHA1oBeV",
        "outputId": "97bf74df-9425-4483-d66f-2bd69e7753b3"
      },
      "source": [
        "kraje.count('PL')"
      ],
      "execution_count": null,
      "outputs": [
        {
          "output_type": "execute_result",
          "data": {
            "text/plain": [
              "1"
            ]
          },
          "metadata": {},
          "execution_count": 33
        }
      ]
    },
    {
      "cell_type": "code",
      "metadata": {
        "colab": {
          "base_uri": "https://localhost:8080/"
        },
        "id": "FuiGIPVaohl_",
        "outputId": "667a5668-2493-445e-80a1-35aa9b27648b"
      },
      "source": [
        "hitsTitles = ['BROTHERS IN ARMS','BOHEMIAN RHAPSODY','STAIRWAY TO HEAVEN',\n",
        "\n",
        "              'RIDERS ON THE STORM','WISH YOU WERE HERE']\n",
        "\n",
        "print(hitsTitles)"
      ],
      "execution_count": null,
      "outputs": [
        {
          "output_type": "stream",
          "text": [
            "['BROTHERS IN ARMS', 'BOHEMIAN RHAPSODY', 'STAIRWAY TO HEAVEN', 'RIDERS ON THE STORM', 'WISH YOU WERE HERE']\n"
          ],
          "name": "stdout"
        }
      ]
    },
    {
      "cell_type": "code",
      "metadata": {
        "colab": {
          "base_uri": "https://localhost:8080/"
        },
        "id": "6ZKktZlMpEs6",
        "outputId": "b708d40c-238c-43b2-a615-2062190f3a62"
      },
      "source": [
        "hitsTitles.append('CHILD IN TIME')\n",
        "\n",
        "hitsTitles.append('AGAIN')\n",
        "\n",
        "print(hitsTitles)"
      ],
      "execution_count": null,
      "outputs": [
        {
          "output_type": "stream",
          "text": [
            "['BROTHERS IN ARMS', 'BOHEMIAN RHAPSODY', 'STAIRWAY TO HEAVEN', 'RIDERS ON THE STORM', 'WISH YOU WERE HERE', 'CHILD IN TIME', 'AGAIN']\n"
          ],
          "name": "stdout"
        }
      ]
    },
    {
      "cell_type": "code",
      "metadata": {
        "colab": {
          "base_uri": "https://localhost:8080/"
        },
        "id": "VqL4v3-spPBd",
        "outputId": "61673033-d268-4cdd-e965-ba3429abfc19"
      },
      "source": [
        "hitsTitles.insert(2,\"HOTEL CALIFORNIA\")\n",
        "\n",
        "print(hitsTitles)"
      ],
      "execution_count": null,
      "outputs": [
        {
          "output_type": "stream",
          "text": [
            "['THE SOUND OF SILENCE', 'BROTHERS IN ARMS', 'HOTEL CALIFORNIA', 'BOHEMIAN RHAPSODY', 'STAIRWAY TO HEAVEN', 'RIDERS ON THE STORM', 'WISH YOU WERE HERE', 'CHILD IN TIME', 'AGAIN']\n"
          ],
          "name": "stdout"
        }
      ]
    },
    {
      "cell_type": "code",
      "metadata": {
        "colab": {
          "base_uri": "https://localhost:8080/"
        },
        "id": "h-n4aVXEpfp9",
        "outputId": "487c9cea-6bbc-4f0b-f7fe-8f314e6a19d4"
      },
      "source": [
        "hitsTitles.insert(0,'THE SOUND OF SILENCE')\n",
        "\n",
        "print(hitsTitles)"
      ],
      "execution_count": null,
      "outputs": [
        {
          "output_type": "stream",
          "text": [
            "['THE SOUND OF SILENCE', 'THE SOUND OF SILENCE', 'BROTHERS IN ARMS', 'HOTEL CALIFORNIA', 'BOHEMIAN RHAPSODY', 'STAIRWAY TO HEAVEN', 'RIDERS ON THE STORM', 'WISH YOU WERE HERE', 'CHILD IN TIME', 'AGAIN']\n"
          ],
          "name": "stdout"
        }
      ]
    },
    {
      "cell_type": "code",
      "metadata": {
        "colab": {
          "base_uri": "https://localhost:8080/"
        },
        "id": "YdOpEu-OpkuR",
        "outputId": "db118969-2b1d-46d2-b54a-5405c42c1e9f"
      },
      "source": [
        "print(hitsTitles.index('HOTEL CALIFORNIA'))"
      ],
      "execution_count": null,
      "outputs": [
        {
          "output_type": "stream",
          "text": [
            "3\n"
          ],
          "name": "stdout"
        }
      ]
    },
    {
      "cell_type": "code",
      "metadata": {
        "colab": {
          "base_uri": "https://localhost:8080/"
        },
        "id": "QrVhY6FZpsG9",
        "outputId": "220c76e1-c671-4cfb-82dd-97f6e3df64dc"
      },
      "source": [
        "hitsTitles.remove(\"HOTEL CALIFORNIA\")\n",
        "\n",
        "print(hitsTitles)"
      ],
      "execution_count": null,
      "outputs": [
        {
          "output_type": "stream",
          "text": [
            "['THE SOUND OF SILENCE', 'THE SOUND OF SILENCE', 'BROTHERS IN ARMS', 'BOHEMIAN RHAPSODY', 'STAIRWAY TO HEAVEN', 'RIDERS ON THE STORM', 'WISH YOU WERE HERE', 'CHILD IN TIME', 'AGAIN']\n"
          ],
          "name": "stdout"
        }
      ]
    },
    {
      "cell_type": "markdown",
      "metadata": {
        "id": "CnS9w9izqUOa"
      },
      "source": [
        "Krotka:"
      ]
    },
    {
      "cell_type": "code",
      "metadata": {
        "colab": {
          "base_uri": "https://localhost:8080/"
        },
        "id": "1vhTruLLp7JH",
        "outputId": "3541742a-1b73-450d-a189-a9d3ca1d970a"
      },
      "source": [
        "marketing=['loyality program','client promotion','market research']\n",
        "print(marketing)"
      ],
      "execution_count": null,
      "outputs": [
        {
          "output_type": "stream",
          "text": [
            "['loyality program', 'client promotion', 'market research']\n"
          ],
          "name": "stdout"
        }
      ]
    },
    {
      "cell_type": "code",
      "metadata": {
        "colab": {
          "base_uri": "https://localhost:8080/"
        },
        "id": "kfvL2f9AsPYf",
        "outputId": "889dc7ca-b9ed-4eb4-d4a7-e9439cdd87e1"
      },
      "source": [
        "marketing.append('public relations')\n",
        "print(marketing)"
      ],
      "execution_count": null,
      "outputs": [
        {
          "output_type": "stream",
          "text": [
            "['loyality program', 'client promotion', 'market research', 'public relations']\n"
          ],
          "name": "stdout"
        }
      ]
    },
    {
      "cell_type": "code",
      "metadata": {
        "colab": {
          "base_uri": "https://localhost:8080/"
        },
        "id": "3bu8um58sSET",
        "outputId": "7175cb15-79b2-405f-b425-f315e182a82d"
      },
      "source": [
        "print(marketing[3])"
      ],
      "execution_count": null,
      "outputs": [
        {
          "output_type": "stream",
          "text": [
            "public relations\n"
          ],
          "name": "stdout"
        }
      ]
    },
    {
      "cell_type": "code",
      "metadata": {
        "colab": {
          "base_uri": "https://localhost:8080/"
        },
        "id": "lWIOaUfBsbVT",
        "outputId": "f2e29180-73b4-47e7-c917-9d8170ba7e65"
      },
      "source": [
        "marketing.insert(2,'investor relations')\n",
        "print(marketing)"
      ],
      "execution_count": null,
      "outputs": [
        {
          "output_type": "stream",
          "text": [
            "['loyality program', 'client promotion', 'investor relations', 'market research', 'public relations']\n"
          ],
          "name": "stdout"
        }
      ]
    },
    {
      "cell_type": "code",
      "metadata": {
        "colab": {
          "base_uri": "https://localhost:8080/"
        },
        "id": "9tPrmw9kseU7",
        "outputId": "2ad03008-6cf0-438b-e7f9-63e4c39bf440"
      },
      "source": [
        "emailMarketing = marketing.copy()\n",
        "print(emailMarketing)"
      ],
      "execution_count": null,
      "outputs": [
        {
          "output_type": "stream",
          "text": [
            "['loyality program', 'client promotion', 'investor relations', 'market research', 'public relations']\n"
          ],
          "name": "stdout"
        }
      ]
    },
    {
      "cell_type": "code",
      "metadata": {
        "colab": {
          "base_uri": "https://localhost:8080/"
        },
        "id": "7I3h-n1tspOr",
        "outputId": "79144b6a-1492-47d2-b4a6-5b3a9dc3a6e7"
      },
      "source": [
        "emailMarketing.sort()\n",
        "print(emailMarketing)"
      ],
      "execution_count": null,
      "outputs": [
        {
          "output_type": "stream",
          "text": [
            "['client promotion', 'investor relations', 'loyality program', 'market research', 'public relations']\n"
          ],
          "name": "stdout"
        }
      ]
    },
    {
      "cell_type": "code",
      "metadata": {
        "colab": {
          "base_uri": "https://localhost:8080/"
        },
        "id": "8fA5hyrYsuWb",
        "outputId": "1430df7e-0e02-4ba8-ffec-bc44e959c3b9"
      },
      "source": [
        "internalEmails = ['internal comunication']\n",
        "emailMarketing.extend(internalEmails)\n",
        "print(emailMarketing)"
      ],
      "execution_count": null,
      "outputs": [
        {
          "output_type": "stream",
          "text": [
            "['client promotion', 'investor relations', 'loyality program', 'market research', 'public relations', 'internal comunication', 'internal comunication', 'internal comunication']\n"
          ],
          "name": "stdout"
        }
      ]
    },
    {
      "cell_type": "code",
      "metadata": {
        "colab": {
          "base_uri": "https://localhost:8080/"
        },
        "id": "FnhqlKG4sxho",
        "outputId": "d83fc24d-d158-457d-adbb-02e5f0f3edb5"
      },
      "source": [
        "emailTuple = tuple(emailMarketing)\n",
        "print(emailTuple)"
      ],
      "execution_count": null,
      "outputs": [
        {
          "output_type": "stream",
          "text": [
            "('client promotion', 'investor relations', 'loyality program', 'market research', 'public relations', 'internal comunication', 'internal comunication', 'internal comunication')\n"
          ],
          "name": "stdout"
        }
      ]
    },
    {
      "cell_type": "markdown",
      "metadata": {
        "id": "NPztcFkJtKmi"
      },
      "source": [
        "Słownik:"
      ]
    },
    {
      "cell_type": "code",
      "metadata": {
        "id": "G3FBOdsutEt7"
      },
      "source": [
        "chanels={'Google':1480,'Email':300,'Natural Traffic':440,'TV Spot':700}"
      ],
      "execution_count": null,
      "outputs": []
    },
    {
      "cell_type": "code",
      "metadata": {
        "colab": {
          "base_uri": "https://localhost:8080/"
        },
        "id": "thw0q8l9ujqH",
        "outputId": "9f613139-a828-4121-8fe4-9752c3026a26"
      },
      "source": [
        "print (chanels)"
      ],
      "execution_count": null,
      "outputs": [
        {
          "output_type": "stream",
          "text": [
            "{'Google': 1480, 'Email': 300, 'Natural Traffic': 440, 'TV Spot': 700}\n"
          ],
          "name": "stdout"
        }
      ]
    },
    {
      "cell_type": "code",
      "metadata": {
        "colab": {
          "base_uri": "https://localhost:8080/"
        },
        "id": "oaFgJSnnulbj",
        "outputId": "8b73675b-f4bd-4309-c406-fa5fb0fffaf2"
      },
      "source": [
        "print(chanels['Email'])"
      ],
      "execution_count": null,
      "outputs": [
        {
          "output_type": "stream",
          "text": [
            "300\n"
          ],
          "name": "stdout"
        }
      ]
    },
    {
      "cell_type": "code",
      "metadata": {
        "colab": {
          "base_uri": "https://localhost:8080/"
        },
        "id": "9ToyQ9PaupfX",
        "outputId": "8566ff77-c7c7-4b85-f1cc-80d28f7d525b"
      },
      "source": [
        "chanelsUpdate={'Natural Traffic':520,'News':600}\n",
        "chanels.update(chanelsUpdate)\n",
        "print(chanels)"
      ],
      "execution_count": null,
      "outputs": [
        {
          "output_type": "stream",
          "text": [
            "{'Google': 1480, 'Email': 300, 'Natural Traffic': 520, 'TV Spot': 700, 'News': 600}\n"
          ],
          "name": "stdout"
        }
      ]
    },
    {
      "cell_type": "code",
      "metadata": {
        "colab": {
          "base_uri": "https://localhost:8080/"
        },
        "id": "MpSTIivDvZ13",
        "outputId": "707d3d1a-12ca-44e9-b2f5-6876f9bf6d62"
      },
      "source": [
        "print(chanels.keys())"
      ],
      "execution_count": null,
      "outputs": [
        {
          "output_type": "stream",
          "text": [
            "dict_keys(['Google', 'Email', 'Natural Traffic', 'TV Spot', 'News'])\n"
          ],
          "name": "stdout"
        }
      ]
    },
    {
      "cell_type": "code",
      "metadata": {
        "colab": {
          "base_uri": "https://localhost:8080/"
        },
        "id": "_or5TrZtvwd3",
        "outputId": "9c8ef5c4-4805-4537-85e3-c5768ba6d2bb"
      },
      "source": [
        "print(chanels.pop('Email'))"
      ],
      "execution_count": null,
      "outputs": [
        {
          "output_type": "stream",
          "text": [
            "300\n"
          ],
          "name": "stdout"
        }
      ]
    },
    {
      "cell_type": "code",
      "metadata": {
        "colab": {
          "base_uri": "https://localhost:8080/"
        },
        "id": "_wM-BGYzv0KT",
        "outputId": "c876691a-95d2-4912-a1b5-d2f31736e0f4"
      },
      "source": [
        "print(chanels)"
      ],
      "execution_count": null,
      "outputs": [
        {
          "output_type": "stream",
          "text": [
            "{'Google': 1480, 'Natural Traffic': 520, 'TV Spot': 700, 'News': 600}\n"
          ],
          "name": "stdout"
        }
      ]
    }
  ]
}